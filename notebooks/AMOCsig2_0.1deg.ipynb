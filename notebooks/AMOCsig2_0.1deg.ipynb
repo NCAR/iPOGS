{
 "cells": [
  {
   "cell_type": "markdown",
   "metadata": {
    "tags": []
   },
   "source": [
    "# POP MOC(sig2) for 0.1-degree\n",
    "**Input Data:** Monthly POP output timeseries files  \n",
    "**Output Data:** Monthly mean AMOC sigma 2 timeseries  \n",
    "**Description:** Computes MOC(sig2) offline from POP history files using simple xhistogram binning.  \n",
    "**Date:** February 2023  \n",
    "**Creator:** Steve Yeager (https://github.com/sgyeager/POP_MOC/blob/main/notebooks/pop_MOCsig2_0.1deg.ipynb)  \n",
    "**Updated:** Teagan King, February 2023 "
   ]
  },
  {
   "cell_type": "code",
   "execution_count": 1,
   "metadata": {},
   "outputs": [],
   "source": [
    "%load_ext autoreload\n",
    "%autoreload 2\n",
    "import xarray as xr \n",
    "import numpy as np  \n",
    "import cftime\n",
    "import dask\n",
    "from xhistogram.xarray import histogram\n",
    "import pop_tools\n",
    "import matplotlib.pyplot as plt\n",
    "%matplotlib inline\n",
    "\n",
    "from MOCutils import popmoc\n",
    "import pop_tools"
   ]
  },
  {
   "cell_type": "code",
   "execution_count": 2,
   "metadata": {},
   "outputs": [
    {
     "data": {
      "text/plain": [
       "'2022.7.0'"
      ]
     },
     "execution_count": 2,
     "metadata": {},
     "output_type": "execute_result"
    }
   ],
   "source": [
    "import dask\n",
    "from dask.distributed import wait\n",
    "dask.__version__"
   ]
  },
  {
   "cell_type": "markdown",
   "metadata": {},
   "source": [
    "### Start Dask Cluster"
   ]
  },
  {
   "cell_type": "code",
   "execution_count": 3,
   "metadata": {
    "collapsed": true,
    "jupyter": {
     "outputs_hidden": true
    },
    "tags": []
   },
   "outputs": [
    {
     "ename": "NameError",
     "evalue": "name 'cluster' is not defined",
     "output_type": "error",
     "traceback": [
      "\u001b[0;31m---------------------------------------------------------------------------\u001b[0m",
      "\u001b[0;31mNameError\u001b[0m                                 Traceback (most recent call last)",
      "Cell \u001b[0;32mIn[3], line 2\u001b[0m\n\u001b[1;32m      1\u001b[0m \u001b[38;5;66;03m# Close out Dask Cluster and release workers:\u001b[39;00m\n\u001b[0;32m----> 2\u001b[0m \u001b[43mcluster\u001b[49m\u001b[38;5;241m.\u001b[39mclose()\n\u001b[1;32m      3\u001b[0m client\u001b[38;5;241m.\u001b[39mclose()\n",
      "\u001b[0;31mNameError\u001b[0m: name 'cluster' is not defined"
     ]
    }
   ],
   "source": [
    "# Close out Dask Cluster and release workers:\n",
    "cluster.close()\n",
    "client.close()"
   ]
  },
  {
   "cell_type": "code",
   "execution_count": 4,
   "metadata": {
    "collapsed": true,
    "jupyter": {
     "outputs_hidden": true
    },
    "tags": []
   },
   "outputs": [
    {
     "name": "stderr",
     "output_type": "stream",
     "text": [
      "/glade/u/home/tking/.conda/envs/ipogs/lib/python3.10/site-packages/dask_jobqueue/pbs.py:82: FutureWarning: project has been renamed to account as this kwarg was used wit -A option. You are still using it (please also check config files). If you did not set account yet, project will be respected for now, but it will be removed in a future release. If you already set account, project is ignored and you can remove it.\n",
      "  warnings.warn(warn, FutureWarning)\n",
      "/glade/u/home/tking/.conda/envs/ipogs/lib/python3.10/site-packages/distributed/node.py:179: UserWarning: Port 8787 is already in use.\n",
      "Perhaps you already have a cluster running?\n",
      "Hosting the HTTP server on port 45956 instead\n",
      "  warnings.warn(\n",
      "/glade/u/home/tking/.conda/envs/ipogs/lib/python3.10/site-packages/dask_jobqueue/pbs.py:82: FutureWarning: project has been renamed to account as this kwarg was used wit -A option. You are still using it (please also check config files). If you did not set account yet, project will be respected for now, but it will be removed in a future release. If you already set account, project is ignored and you can remove it.\n",
      "  warnings.warn(warn, FutureWarning)\n"
     ]
    }
   ],
   "source": [
    "# TODO: optimize dask resources\n",
    "\n",
    "def get_ClusterClient():\n",
    "    import dask\n",
    "    from dask_jobqueue import PBSCluster\n",
    "    from dask.distributed import Client\n",
    "    cluster = PBSCluster(\n",
    "        cores=1,\n",
    "        memory='50GB',\n",
    "        processes=1,\n",
    "        queue='casper',\n",
    "        resource_spec='select=1:ncpus=1:mem=50GB',\n",
    "        account='NCGD0011',\n",
    "        walltime='03:00:00',\n",
    "        interface='ib0',)\n",
    "\n",
    "    dask.config.set({\n",
    "        'distributed.dashboard.link':\n",
    "        'https://jupyterhub.hpc.ucar.edu/stable/user/{USER}/proxy/{port}/status'\n",
    "    })\n",
    "    client = Client(cluster)\n",
    "    return cluster, client\n",
    "\n",
    "cluster, client = get_ClusterClient()\n",
    "cluster.scale(35) "
   ]
  },
  {
   "cell_type": "code",
   "execution_count": 5,
   "metadata": {},
   "outputs": [
    {
     "data": {
      "text/html": [
       "<div class=\"jp-RenderedHTMLCommon jp-RenderedHTML jp-mod-trusted jp-OutputArea-output\">\n",
       "    <div style=\"width: 24px; height: 24px; background-color: #e1e1e1; border: 3px solid #9D9D9D; border-radius: 5px; position: absolute;\">\n",
       "    </div>\n",
       "    <div style=\"margin-left: 48px;\">\n",
       "        <h3 style=\"margin-bottom: 0px; margin-top: 0px;\">PBSCluster</h3>\n",
       "        <p style=\"color: #9D9D9D; margin-bottom: 0px;\">ff263e02</p>\n",
       "        <table style=\"width: 100%; text-align: left;\">\n",
       "            <tr>\n",
       "                <td style=\"text-align: left;\">\n",
       "                    <strong>Dashboard:</strong> <a href=\"https://jupyterhub.hpc.ucar.edu/stable/user/tking/proxy/45956/status\" target=\"_blank\">https://jupyterhub.hpc.ucar.edu/stable/user/tking/proxy/45956/status</a>\n",
       "                </td>\n",
       "                <td style=\"text-align: left;\">\n",
       "                    <strong>Workers:</strong> 0\n",
       "                </td>\n",
       "            </tr>\n",
       "            <tr>\n",
       "                <td style=\"text-align: left;\">\n",
       "                    <strong>Total threads:</strong> 0\n",
       "                </td>\n",
       "                <td style=\"text-align: left;\">\n",
       "                    <strong>Total memory:</strong> 0 B\n",
       "                </td>\n",
       "            </tr>\n",
       "            \n",
       "        </table>\n",
       "\n",
       "        <details>\n",
       "            <summary style=\"margin-bottom: 20px;\">\n",
       "                <h3 style=\"display: inline;\">Scheduler Info</h3>\n",
       "            </summary>\n",
       "\n",
       "            <div style=\"\">\n",
       "    <div>\n",
       "        <div style=\"width: 24px; height: 24px; background-color: #FFF7E5; border: 3px solid #FF6132; border-radius: 5px; position: absolute;\"> </div>\n",
       "        <div style=\"margin-left: 48px;\">\n",
       "            <h3 style=\"margin-bottom: 0px;\">Scheduler</h3>\n",
       "            <p style=\"color: #9D9D9D; margin-bottom: 0px;\">Scheduler-f6b189d7-1296-4306-b35b-b1b3b2a8ce79</p>\n",
       "            <table style=\"width: 100%; text-align: left;\">\n",
       "                <tr>\n",
       "                    <td style=\"text-align: left;\">\n",
       "                        <strong>Comm:</strong> tcp://10.12.206.48:46268\n",
       "                    </td>\n",
       "                    <td style=\"text-align: left;\">\n",
       "                        <strong>Workers:</strong> 0\n",
       "                    </td>\n",
       "                </tr>\n",
       "                <tr>\n",
       "                    <td style=\"text-align: left;\">\n",
       "                        <strong>Dashboard:</strong> <a href=\"https://jupyterhub.hpc.ucar.edu/stable/user/tking/proxy/45956/status\" target=\"_blank\">https://jupyterhub.hpc.ucar.edu/stable/user/tking/proxy/45956/status</a>\n",
       "                    </td>\n",
       "                    <td style=\"text-align: left;\">\n",
       "                        <strong>Total threads:</strong> 0\n",
       "                    </td>\n",
       "                </tr>\n",
       "                <tr>\n",
       "                    <td style=\"text-align: left;\">\n",
       "                        <strong>Started:</strong> Just now\n",
       "                    </td>\n",
       "                    <td style=\"text-align: left;\">\n",
       "                        <strong>Total memory:</strong> 0 B\n",
       "                    </td>\n",
       "                </tr>\n",
       "            </table>\n",
       "        </div>\n",
       "    </div>\n",
       "\n",
       "    <details style=\"margin-left: 48px;\">\n",
       "        <summary style=\"margin-bottom: 20px;\">\n",
       "            <h3 style=\"display: inline;\">Workers</h3>\n",
       "        </summary>\n",
       "\n",
       "        \n",
       "\n",
       "    </details>\n",
       "</div>\n",
       "\n",
       "        </details>\n",
       "    </div>\n",
       "</div>"
      ],
      "text/plain": [
       "PBSCluster(ff263e02, 'tcp://10.12.206.48:46268', workers=0, threads=0, memory=0 B)"
      ]
     },
     "metadata": {},
     "output_type": "display_data"
    }
   ],
   "source": [
    "cluster"
   ]
  },
  {
   "cell_type": "markdown",
   "metadata": {},
   "source": [
    "### 1. Read in OGCM history file & MOC template file"
   ]
  },
  {
   "cell_type": "code",
   "execution_count": 6,
   "metadata": {},
   "outputs": [],
   "source": [
    "def time_set_midmonth(ds, time_name, deep=False):\n",
    "    \"\"\"\n",
    "    Return copy of ds with values of ds[time_name] replaced with mid-month\n",
    "    values (day=15) rather than end-month values.\n",
    "    \"\"\"\n",
    "    #ds_out = ds.copy(deep)\n",
    "    year = ds[time_name].dt.year\n",
    "    month = ds[time_name].dt.month\n",
    "    year = xr.where(month==1,year-1,year)\n",
    "    month = xr.where(month==1,12,month-1)\n",
    "    nmonths = len(month)\n",
    "    newtime = [cftime.DatetimeNoLeap(year[i], month[i], 15) for i in range(nmonths)]\n",
    "    ds[time_name] = newtime\n",
    "    return ds\n",
    "\n",
    "def preprocessor_uvel(ds0):\n",
    "    keepvars = ['UVEL'] #,'VVEL','TEMP','SALT']\n",
    "    d0 = ds0[keepvars]\n",
    "    d0 = time_set_midmonth(d0,'time')\n",
    "    #d0 = d0.groupby('time.year').mean('time').rename({'year':'time'})\n",
    "    return d0\n",
    "\n",
    "def preprocessor_vvel(ds0):\n",
    "    keepvars = ['VVEL'] #,'VVEL','TEMP','SALT']\n",
    "    d0 = ds0[keepvars]\n",
    "    d0 = time_set_midmonth(d0,'time')\n",
    "    #d0 = d0.groupby('time.year').mean('time').rename({'year':'time'})\n",
    "    return d0\n",
    "\n",
    "# def preprocessor_temp(ds0):\n",
    "#     keepvars = ['TEMP'] #,'VVEL','TEMP','SALT']\n",
    "#     d0 = ds0[keepvars]\n",
    "#     d0 = time_set_midmonth(d0,'time')\n",
    "#     #d0 = d0.groupby('time.year').mean('time').rename({'year':'time'})\n",
    "#     return d0\n",
    "\n",
    "def preprocessor_salt(ds0):\n",
    "    keepvars = ['SALT'] #,'VVEL','TEMP','SALT']\n",
    "    d0 = ds0[keepvars]\n",
    "    d0 = time_set_midmonth(d0,'time')\n",
    "    #d0 = d0.groupby('time.year').mean('time').rename({'year':'time'})\n",
    "    return d0"
   ]
  },
  {
   "cell_type": "code",
   "execution_count": 12,
   "metadata": {},
   "outputs": [
    {
     "name": "stdout",
     "output_type": "stream",
     "text": [
      "CPU times: user 5.37 s, sys: 676 ms, total: 6.04 s\n",
      "Wall time: 8.56 s\n"
     ]
    }
   ],
   "source": [
    "%%time\n",
    "\n",
    "# fdir = '/glade/campaign/cgd/oce/people/whokim/csm/g.e21.GRYF_0304.TL319_t13.003/ocn/hist/'\n",
    "fdir = '/glade/campaign/collections/cmip/CMIP6/iHESP/BHIST/HR/B.E.13.BHISTC5.ne120_t12.sehires38.003.sunway/ocn/proc/tseries/month_1/'\n",
    "# TODO: this script takes *history* files as input\n",
    "\n",
    "# TODO: loop through file years?\n",
    "fin_uvel = fdir + '*UVEL*.nc'\n",
    "ds_uvel = xr.open_mfdataset(fin_uvel,combine='by_coords',\n",
    "                       preprocess=preprocessor_uvel,chunks={'time':1,'nlat':200},\n",
    "                       coords=\"minimal\",compat=\"override\",data_vars=\"minimal\",\n",
    "                       parallel=True)\n",
    "\n",
    "fin_vvel = fdir + '*VVEL*.nc'\n",
    "ds_vvel = xr.open_mfdataset(fin_vvel,combine='by_coords',\n",
    "                       preprocess=preprocessor_vvel,chunks={'time':1,'nlat':200},\n",
    "                       coords=\"minimal\",compat=\"override\",data_vars=\"minimal\",\n",
    "                       parallel=True)\n",
    "\n",
    "# fin_temp = fdir + '*TEMP*.nc'\n",
    "# ds_temp = xr.open_mfdataset(fin_temp,combine='by_coords',\n",
    "#                        preprocess=preprocessor_temp, chunks={'time':1,'nlat':200},\n",
    "#                        coords=\"minimal\",compat=\"override\",data_vars=\"minimal\",\n",
    "#                        parallel=True)\n",
    "\n",
    "# fin_salt = fdir + '*SALT*.nc'\n",
    "# ds_salt = xr.open_mfdataset(fin_salt,combine='by_coords',\n",
    "#                        preprocess=preprocessor_salt,chunks={'time':1,'nlat':200},\n",
    "#                        coords=\"minimal\",compat=\"override\",data_vars=\"minimal\",\n",
    "#                        parallel=True)\n",
    "\n",
    "ds_grid = pop_tools.get_grid('POP_tx0.1v3')\n",
    "\n",
    "fmoc = '/glade/u/home/yeager/analysis/python/POP_MOC/moc_template.nc'\n",
    "ds_moctemp = xr.open_dataset(fmoc)"
   ]
  },
  {
   "cell_type": "code",
   "execution_count": null,
   "metadata": {},
   "outputs": [],
   "source": [
    "%%time\n",
    "dz = ds_grid['dz'].persist() / 100.\n",
    "kmt = ds_grid['KMT'].fillna(0).persist() \n",
    "dzt,dzu = popmoc.tx0p1v3_dztdzu(dz,kmt)"
   ]
  },
  {
   "cell_type": "markdown",
   "metadata": {},
   "source": [
    "### 2. Compute sigma-2 field from POP model output"
   ]
  },
  {
   "cell_type": "code",
   "execution_count": 9,
   "metadata": {},
   "outputs": [
    {
     "ename": "NameError",
     "evalue": "name 'ds_salt' is not defined",
     "output_type": "error",
     "traceback": [
      "\u001b[0;31m---------------------------------------------------------------------------\u001b[0m",
      "\u001b[0;31mNameError\u001b[0m                                 Traceback (most recent call last)",
      "Cell \u001b[0;32mIn[9], line 2\u001b[0m\n\u001b[1;32m      1\u001b[0m \u001b[38;5;66;03m# Get model T & S\u001b[39;00m\n\u001b[0;32m----> 2\u001b[0m salt \u001b[38;5;241m=\u001b[39m \u001b[43mds_salt\u001b[49m[\u001b[38;5;124m'\u001b[39m\u001b[38;5;124mSALT\u001b[39m\u001b[38;5;124m'\u001b[39m]\n\u001b[1;32m      3\u001b[0m temp \u001b[38;5;241m=\u001b[39m ds_temp[\u001b[38;5;124m'\u001b[39m\u001b[38;5;124mTEMP\u001b[39m\u001b[38;5;124m'\u001b[39m]\n",
      "\u001b[0;31mNameError\u001b[0m: name 'ds_salt' is not defined"
     ]
    }
   ],
   "source": [
    "# Get model T & S\n",
    "salt = ds_salt['SALT']\n",
    "temp = ds_temp['TEMP']"
   ]
  },
  {
   "cell_type": "code",
   "execution_count": null,
   "metadata": {},
   "outputs": [],
   "source": [
    "%%time\n",
    "refz = 2000\n",
    "refdep = xr.full_like(ds_uvel['z_t'],refz).rename('REFDEP')\n",
    "\n",
    "# Sigma2 on model TLAT, TLONG\n",
    "sigma2_T = pop_tools.eos(salt=salt,temp=temp,depth=refdep) - 1000\n",
    "sigma2_T = sigma2_T.assign_attrs({'long_name':'Sigma referenced to {}m'.format(refz),'units':'kg/m^3'})"
   ]
  },
  {
   "cell_type": "code",
   "execution_count": null,
   "metadata": {},
   "outputs": [],
   "source": [
    "sigma2_T"
   ]
  },
  {
   "cell_type": "markdown",
   "metadata": {},
   "source": [
    "### 3. Define target sigma-2 vertical grid\n",
    "- Use a predefined target grid, or create your own!"
   ]
  },
  {
   "cell_type": "code",
   "execution_count": null,
   "metadata": {},
   "outputs": [],
   "source": [
    "# Use predefined 86-layer sigma2 grid:\n",
    "sigma_mid,sigma_edge = popmoc.sigma2_grid_86L()"
   ]
  },
  {
   "cell_type": "code",
   "execution_count": null,
   "metadata": {},
   "outputs": [],
   "source": [
    "sigma_mid"
   ]
  },
  {
   "cell_type": "code",
   "execution_count": null,
   "metadata": {},
   "outputs": [],
   "source": [
    "sigma_edge"
   ]
  },
  {
   "cell_type": "markdown",
   "metadata": {},
   "source": [
    "### 4. Compute Isopycnal Layer Thickness (Can skip if not needed)"
   ]
  },
  {
   "cell_type": "code",
   "execution_count": null,
   "metadata": {
    "tags": []
   },
   "outputs": [],
   "source": [
    "%%time\n",
    "# Here, test histogram by counting cells in each density bin. Vertical sum should be same as KMT.\n",
    "iso_count = histogram(sigma2_T, bins=[sigma_edge.values],dim=['z_t'],density=False)\n",
    "iso_count = iso_count.rename({'density_bin':'sigma'}).assign_coords({'sigma':sigma_mid})\n",
    "\n",
    "kmtdiff = iso_count.sum('sigma') - ds_grid['KMT']\n",
    "print(\"Max difference from true KMT = {}\".format(abs(kmtdiff).max().values))"
   ]
  },
  {
   "cell_type": "code",
   "execution_count": null,
   "metadata": {},
   "outputs": [],
   "source": [
    "%%time\n",
    "# Use histogram to compute layer thickness. Vertical sum should be same as HT.\n",
    "iso_thick = histogram(sigma2_T, bins=[sigma_edge.values], weights=dzt,dim=['z_t'],density=False)\n",
    "iso_thick = iso_thick.rename({'density_bin':'sigma'}).assign_coords({'sigma':sigma_mid})\n",
    "iso_thick = iso_thick.rename('iso_thick').assign_attrs({'units':'m','long_name':'Isopycnal Layer Thickness'}).rename({'sigma':'sigma_mid'})\n",
    "iso_thick = iso_thick.transpose('time','sigma_mid','nlat','nlon')\n",
    "\n",
    "htdiff = iso_thick.sum('sigma_mid') - (ds_grid['HT']/100.).assign_attrs({'units':'m'})\n",
    "print(\"Max difference from true HT = {}m\".format(abs(htdiff).max().values))"
   ]
  },
  {
   "cell_type": "markdown",
   "metadata": {},
   "source": [
    "### 5. Compute Isopycnal Layer Depth (Can skip if not needed)"
   ]
  },
  {
   "cell_type": "code",
   "execution_count": null,
   "metadata": {},
   "outputs": [],
   "source": [
    "# Cumulative sum of layer thickness yields depth of layer edges:\n",
    "iso_depth = iso_thick.cumsum('sigma_mid').rename('iso_depth').rename({'sigma_mid':'sigma_bot'}).assign_attrs({'units':'m','long_name':'Isopycnal Layer Depth'})\n",
    "sigma_bot = sigma_edge.isel(sigma=slice(1,None)).rename({'sigma':'sigma_bot'}).assign_attrs({'long_name':'Sigma2 at bottom of layer'})\n",
    "iso_depth['sigma_bot'] = sigma_bot\n",
    "iso_depth = iso_depth.transpose('time','sigma_bot','nlat','nlon')"
   ]
  },
  {
   "cell_type": "code",
   "execution_count": null,
   "metadata": {},
   "outputs": [],
   "source": [
    "iso_depth"
   ]
  },
  {
   "cell_type": "code",
   "execution_count": null,
   "metadata": {},
   "outputs": [],
   "source": [
    "iso_depth.isel(time=0,sigma_bot=84).plot(size=6,vmax=5500)"
   ]
  },
  {
   "cell_type": "code",
   "execution_count": null,
   "metadata": {},
   "outputs": [],
   "source": [
    "%%time\n",
    "# Isopycnal depth of bottom-most layer should be same as HT.\n",
    "htdiff =  iso_depth.isel(sigma_bot=-1) - (ds_grid['HT']/100.).assign_attrs({'units':'m'})\n",
    "print(\"Max difference from true HT = {}m\".format(abs(htdiff).max().values))"
   ]
  },
  {
   "cell_type": "markdown",
   "metadata": {},
   "source": [
    "### 6. Compute Isopycnal Layer Horizontal Volume Flux"
   ]
  },
  {
   "cell_type": "code",
   "execution_count": null,
   "metadata": {},
   "outputs": [],
   "source": [
    "## Grid Metrics\n",
    "dxu = ds_grid['DXU']\n",
    "dyu = ds_grid['DYU']\n",
    "dxt = ds_grid['DXT']\n",
    "dyt = ds_grid['DYT']"
   ]
  },
  {
   "cell_type": "code",
   "execution_count": null,
   "metadata": {},
   "outputs": [],
   "source": [
    "u_e = ds_uvel['UVEL']\n",
    "u_e = u_e.where(u_e<1.e30,0)\n",
    "v_e = ds_vvel['VVEL']\n",
    "v_e = v_e.where(v_e<1.e30,0)"
   ]
  },
  {
   "cell_type": "code",
   "execution_count": null,
   "metadata": {},
   "outputs": [],
   "source": [
    "%%time\n",
    "# Grid-oriented Volume FLuxes:\n",
    "u_e = (u_e*dyu*dzu/1.e4).assign_attrs({'units':'m^3/s'})\n",
    "v_e = (v_e*dxu*dzu/1.e4).assign_attrs({'units':'m^3/s'})"
   ]
  },
  {
   "cell_type": "code",
   "execution_count": null,
   "metadata": {},
   "outputs": [],
   "source": [
    "%%time\n",
    "# Convert u_e,v_e to C-grid fluxes\n",
    "u = 0.5*(u_e+u_e.shift(nlat=1))\n",
    "v = 0.5*(v_e+v_e.roll(nlon=1,roll_coords=False))"
   ]
  },
  {
   "cell_type": "code",
   "execution_count": null,
   "metadata": {},
   "outputs": [],
   "source": [
    "%%time\n",
    "# Volume fluxes in density-space. \n",
    "iso_uflux = histogram(sigma2_T, bins=[sigma_edge.values],weights=u,dim=['z_t'],density=False)\n",
    "iso_uflux = iso_uflux.rename({'density_bin':'sigma'}).assign_coords({'sigma':sigma_mid})\n",
    "\n",
    "iso_vflux = histogram(sigma2_T, bins=[sigma_edge.values],weights=v,dim=['z_t'],density=False)\n",
    "iso_vflux = iso_vflux.rename({'density_bin':'sigma'}).assign_coords({'sigma':sigma_mid})"
   ]
  },
  {
   "cell_type": "code",
   "execution_count": null,
   "metadata": {},
   "outputs": [],
   "source": [
    "%%time\n",
    "iso_uflux = iso_uflux.persist()\n",
    "daskout = wait(iso_uflux)"
   ]
  },
  {
   "cell_type": "code",
   "execution_count": null,
   "metadata": {},
   "outputs": [],
   "source": [
    "%%time\n",
    "iso_vflux = iso_vflux.persist()\n",
    "daskout = wait(iso_vflux)"
   ]
  },
  {
   "cell_type": "code",
   "execution_count": null,
   "metadata": {},
   "outputs": [],
   "source": [
    "%%time\n",
    "# Vertical sum in density-space should reproduce vertical sum in depth-space\n",
    "ufluxdiff = iso_uflux.isel(time=0).sum('sigma') - u.isel(time=0).sum('z_t')\n",
    "print(\"Max difference from true Uflux = {}\".format(abs(ufluxdiff).max().values))\n",
    "vfluxdiff = iso_vflux.isel(time=0).sum('sigma') - v.isel(time=0).sum('z_t')\n",
    "print(\"Max difference from true Vflux = {}\".format(abs(vfluxdiff).max().values))"
   ]
  },
  {
   "cell_type": "markdown",
   "metadata": {},
   "source": [
    "### 7. Compute Vertical Volume Flux from horizontal flux convergence"
   ]
  },
  {
   "cell_type": "code",
   "execution_count": null,
   "metadata": {},
   "outputs": [],
   "source": [
    "%%time\n",
    "wflux = popmoc.wflux(iso_uflux,iso_vflux,'sigma',sigma_edge,grid='C')\n",
    "wflux = wflux.assign_coords({'TLAT':ds_uvel['TLAT'],'TLONG':ds_uvel['TLONG']}).drop(['ULAT','ULONG'])"
   ]
  },
  {
   "cell_type": "code",
   "execution_count": null,
   "metadata": {},
   "outputs": [],
   "source": [
    "%%time\n",
    "wflux = wflux.persist()\n",
    "daskout = wait(wflux)"
   ]
  },
  {
   "cell_type": "markdown",
   "metadata": {},
   "source": [
    "### 8. Define MOC region masks"
   ]
  },
  {
   "cell_type": "code",
   "execution_count": null,
   "metadata": {},
   "outputs": [],
   "source": [
    "## Define the MOC region mask:\n",
    "rmask = ds_grid.REGION_MASK.drop(['ULONG','ULAT'])\n",
    "rmaskglob = xr.where((rmask>0),1,0)\n",
    "rmaskatl = xr.where((rmask>=6) & (rmask<=11),1,0)\n",
    "rmaskmoc = xr.concat([rmaskglob,rmaskatl],dim=ds_moctemp.transport_regions)"
   ]
  },
  {
   "cell_type": "code",
   "execution_count": null,
   "metadata": {},
   "outputs": [],
   "source": [
    "rmaskmoc.plot(levels=[0,1,2,3],col='transport_reg',size=5);"
   ]
  },
  {
   "cell_type": "markdown",
   "metadata": {},
   "source": [
    "### 9. Compute MOC"
   ]
  },
  {
   "cell_type": "code",
   "execution_count": null,
   "metadata": {},
   "outputs": [],
   "source": [
    "%%time\n",
    "MOC = popmoc.compute_MOC(wflux,rmaskmoc,ds_moctemp.lat_aux_grid)\n",
    "MOC = MOC.transpose('time','transport_reg','sigma','lat_aux_grid')"
   ]
  },
  {
   "cell_type": "code",
   "execution_count": null,
   "metadata": {},
   "outputs": [],
   "source": [
    "%%time\n",
    "MOC = MOC.load()\n",
    "#daskout = wait(MOC)"
   ]
  },
  {
   "cell_type": "markdown",
   "metadata": {},
   "source": [
    "### 10. Add Southern Boundary Fluxes for Atlantic Region"
   ]
  },
  {
   "cell_type": "code",
   "execution_count": null,
   "metadata": {},
   "outputs": [],
   "source": [
    "# determine j=index of Atlantic region southern boundary\n",
    "tmp = rmaskmoc.isel(transport_reg=1).sum('nlon')\n",
    "atl_j = 0\n",
    "j = 0\n",
    "while (atl_j==0):\n",
    "    if (tmp.isel(nlat=j).data>0):\n",
    "        atl_j = j\n",
    "    j += 1\n",
    "atl_j = atl_j - 1\n",
    "atl_j"
   ]
  },
  {
   "cell_type": "code",
   "execution_count": null,
   "metadata": {},
   "outputs": [],
   "source": [
    "%%time\n",
    "# add vflux at southern boundary of Atlantic domain\n",
    "tmp = iso_vflux*(rmaskmoc.shift(nlat=-1))\n",
    "tmp = tmp.isel(nlat=atl_j,transport_reg=1).sum('nlon')\n",
    "moc_s = -tmp.sortby('sigma',ascending=False).cumsum('sigma').sortby('sigma',ascending=True)/1.e6\n",
    "moc_s['sigma'] = sigma_edge.isel(sigma=slice(0,-1))\n",
    "MOC[{'transport_reg':1}] = MOC[{'transport_reg':1}] + moc_s"
   ]
  },
  {
   "cell_type": "code",
   "execution_count": null,
   "metadata": {},
   "outputs": [],
   "source": [
    "MOC.isel(time=0).isel(transport_reg=0).plot(ylim=[40,28])"
   ]
  },
  {
   "cell_type": "code",
   "execution_count": null,
   "metadata": {},
   "outputs": [],
   "source": [
    "MOC.isel(time=0).isel(transport_reg=1).plot(ylim=[40,28])"
   ]
  },
  {
   "cell_type": "markdown",
   "metadata": {},
   "source": [
    "### 11. Save to netcdf"
   ]
  },
  {
   "cell_type": "code",
   "execution_count": null,
   "metadata": {},
   "outputs": [],
   "source": [
    "MOCann = MOC.groupby('time.year').mean('time').rename({'year':'time'})\n",
    "dsout = MOCann.to_dataset()"
   ]
  },
  {
   "cell_type": "code",
   "execution_count": null,
   "metadata": {},
   "outputs": [],
   "source": [
    "fout = '/glade/scratch/tking/MOCsig2.nc'\n",
    "dsout.to_netcdf(fout,unlimited_dims='time')"
   ]
  },
  {
   "cell_type": "code",
   "execution_count": null,
   "metadata": {},
   "outputs": [],
   "source": []
  },
  {
   "cell_type": "code",
   "execution_count": null,
   "metadata": {},
   "outputs": [],
   "source": []
  },
  {
   "cell_type": "code",
   "execution_count": null,
   "metadata": {},
   "outputs": [],
   "source": []
  },
  {
   "cell_type": "code",
   "execution_count": null,
   "metadata": {},
   "outputs": [],
   "source": []
  },
  {
   "cell_type": "code",
   "execution_count": null,
   "metadata": {},
   "outputs": [],
   "source": []
  }
 ],
 "metadata": {
  "kernelspec": {
   "display_name": "ipogs",
   "language": "python",
   "name": "ipogs"
  },
  "language_info": {
   "codemirror_mode": {
    "name": "ipython",
    "version": 3
   },
   "file_extension": ".py",
   "mimetype": "text/x-python",
   "name": "python",
   "nbconvert_exporter": "python",
   "pygments_lexer": "ipython3",
   "version": "3.10.9"
  }
 },
 "nbformat": 4,
 "nbformat_minor": 4
}
