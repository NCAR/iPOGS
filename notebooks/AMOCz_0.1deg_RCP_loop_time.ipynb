{
 "cells": [
  {
   "cell_type": "markdown",
   "id": "4325bbd5-3fc5-4a65-9cab-be6cf1819f29",
   "metadata": {},
   "source": [
    "# POP MOC(z) for 0.1-degree\n",
    "**Input Data:** Monthly POP output timeseries files  \n",
    "**Output Data:** Monthly mean AMOC z timeseries  \n",
    "**Description:** Computes MOC(z) offline from POP history files using simple xhistogram binning.  \n",
    "**Date:** February 2023  \n",
    "**Creator:** Steve Yeager (https://github.com/sgyeager/POP_MOC/blob/main/notebooks/pop_MOCz_0.1deg.ipynb)  \n",
    "**Updated:** Fred Castruccio, February 2023  \n",
    "**Note:** To use the MOCutils, a user will need to clone the POP_MOC repository (https://github.com/sgyeager/POP_MOC) and install MOCutils by going to the POP_MOC directory and running `pip install -e . --user`."
   ]
  },
  {
   "cell_type": "code",
   "execution_count": 1,
   "id": "805d16fe-218e-4b5b-bb21-cbcdf5c6a71d",
   "metadata": {},
   "outputs": [],
   "source": [
    "%load_ext autoreload\n",
    "%autoreload 2\n",
    "import xarray as xr \n",
    "import numpy as np  \n",
    "import cftime\n",
    "import copy\n",
    "import glob\n",
    "import dask\n",
    "from xhistogram.xarray import histogram\n",
    "import matplotlib.pyplot as plt\n",
    "%matplotlib inline\n",
    "\n",
    "from MOCutils import popmoc\n",
    "import pop_tools\n",
    "\n",
    "import os"
   ]
  },
  {
   "cell_type": "code",
   "execution_count": 2,
   "id": "f06f451e-1138-41e1-9873-fbcd84c569fb",
   "metadata": {},
   "outputs": [
    {
     "data": {
      "text/plain": [
       "'2022.7.0'"
      ]
     },
     "execution_count": 2,
     "metadata": {},
     "output_type": "execute_result"
    }
   ],
   "source": [
    "from dask.distributed import wait\n",
    "dask.__version__"
   ]
  },
  {
   "cell_type": "code",
   "execution_count": 3,
   "id": "635ea7f0-16c3-4339-a63d-d9313594b32d",
   "metadata": {},
   "outputs": [],
   "source": [
    "# Close out Dask Cluster and release workers:\n",
    "#cluster.close()\n",
    "#client.close()"
   ]
  },
  {
   "cell_type": "code",
   "execution_count": 4,
   "id": "f91c3ef5-b0e3-47a9-937d-8cfdd022139c",
   "metadata": {},
   "outputs": [
    {
     "name": "stderr",
     "output_type": "stream",
     "text": [
      "/glade/work/fredc/miniconda3/envs/ipogs/lib/python3.10/site-packages/dask_jobqueue/core.py:255: FutureWarning: job_extra has been renamed to job_extra_directives. You are still using it (even if only set to []; please also check config files). If you did not set job_extra_directives yet, job_extra will be respected for now, but it will be removed in a future release. If you already set job_extra_directives, job_extra is ignored and you can remove it.\n",
      "  warnings.warn(warn, FutureWarning)\n",
      "/glade/work/fredc/miniconda3/envs/ipogs/lib/python3.10/site-packages/dask_jobqueue/pbs.py:82: FutureWarning: project has been renamed to account as this kwarg was used wit -A option. You are still using it (please also check config files). If you did not set account yet, project will be respected for now, but it will be removed in a future release. If you already set account, project is ignored and you can remove it.\n",
      "  warnings.warn(warn, FutureWarning)\n",
      "/glade/work/fredc/miniconda3/envs/ipogs/lib/python3.10/site-packages/dask_jobqueue/core.py:255: FutureWarning: job_extra has been renamed to job_extra_directives. You are still using it (even if only set to []; please also check config files). If you did not set job_extra_directives yet, job_extra will be respected for now, but it will be removed in a future release. If you already set job_extra_directives, job_extra is ignored and you can remove it.\n",
      "  warnings.warn(warn, FutureWarning)\n",
      "/glade/work/fredc/miniconda3/envs/ipogs/lib/python3.10/site-packages/dask_jobqueue/pbs.py:82: FutureWarning: project has been renamed to account as this kwarg was used wit -A option. You are still using it (please also check config files). If you did not set account yet, project will be respected for now, but it will be removed in a future release. If you already set account, project is ignored and you can remove it.\n",
      "  warnings.warn(warn, FutureWarning)\n"
     ]
    }
   ],
   "source": [
    "# TODO: optimize dask resources\n",
    "\n",
    "def get_ClusterClient():\n",
    "    import dask\n",
    "    from dask_jobqueue import PBSCluster\n",
    "    from dask.distributed import Client\n",
    "    cluster = PBSCluster(\n",
    "        cores=1,\n",
    "        memory='20GB',\n",
    "        processes=1,\n",
    "        queue='casper',\n",
    "        resource_spec='select=1:ncpus=1:mem=10GB',\n",
    "        project='NCGD0011',\n",
    "        walltime='06:00:00',\n",
    "        interface='ib0',)\n",
    "\n",
    "    dask.config.set({\n",
    "        'distributed.dashboard.link':\n",
    "        'https://jupyterhub.hpc.ucar.edu/stable/user/{USER}/proxy/{port}/status'\n",
    "    })\n",
    "    client = Client(cluster)\n",
    "    return cluster, client\n",
    "\n",
    "cluster, client = get_ClusterClient()\n",
    "cluster.scale(72) "
   ]
  },
  {
   "cell_type": "code",
   "execution_count": 5,
   "id": "49a6223b-9bb0-4097-a606-d54e0a41dd84",
   "metadata": {},
   "outputs": [
    {
     "data": {
      "text/html": [
       "<div class=\"jp-RenderedHTMLCommon jp-RenderedHTML jp-mod-trusted jp-OutputArea-output\">\n",
       "    <div style=\"width: 24px; height: 24px; background-color: #e1e1e1; border: 3px solid #9D9D9D; border-radius: 5px; position: absolute;\">\n",
       "    </div>\n",
       "    <div style=\"margin-left: 48px;\">\n",
       "        <h3 style=\"margin-bottom: 0px; margin-top: 0px;\">PBSCluster</h3>\n",
       "        <p style=\"color: #9D9D9D; margin-bottom: 0px;\">c4c5f42f</p>\n",
       "        <table style=\"width: 100%; text-align: left;\">\n",
       "            <tr>\n",
       "                <td style=\"text-align: left;\">\n",
       "                    <strong>Dashboard:</strong> <a href=\"https://jupyterhub.hpc.ucar.edu/stable/user/fredc/proxy/8787/status\" target=\"_blank\">https://jupyterhub.hpc.ucar.edu/stable/user/fredc/proxy/8787/status</a>\n",
       "                </td>\n",
       "                <td style=\"text-align: left;\">\n",
       "                    <strong>Workers:</strong> 0\n",
       "                </td>\n",
       "            </tr>\n",
       "            <tr>\n",
       "                <td style=\"text-align: left;\">\n",
       "                    <strong>Total threads:</strong> 0\n",
       "                </td>\n",
       "                <td style=\"text-align: left;\">\n",
       "                    <strong>Total memory:</strong> 0 B\n",
       "                </td>\n",
       "            </tr>\n",
       "            \n",
       "        </table>\n",
       "\n",
       "        <details>\n",
       "            <summary style=\"margin-bottom: 20px;\">\n",
       "                <h3 style=\"display: inline;\">Scheduler Info</h3>\n",
       "            </summary>\n",
       "\n",
       "            <div style=\"\">\n",
       "    <div>\n",
       "        <div style=\"width: 24px; height: 24px; background-color: #FFF7E5; border: 3px solid #FF6132; border-radius: 5px; position: absolute;\"> </div>\n",
       "        <div style=\"margin-left: 48px;\">\n",
       "            <h3 style=\"margin-bottom: 0px;\">Scheduler</h3>\n",
       "            <p style=\"color: #9D9D9D; margin-bottom: 0px;\">Scheduler-0fb9db8f-a925-4004-ad36-210211c3cbba</p>\n",
       "            <table style=\"width: 100%; text-align: left;\">\n",
       "                <tr>\n",
       "                    <td style=\"text-align: left;\">\n",
       "                        <strong>Comm:</strong> tcp://10.12.206.59:46817\n",
       "                    </td>\n",
       "                    <td style=\"text-align: left;\">\n",
       "                        <strong>Workers:</strong> 0\n",
       "                    </td>\n",
       "                </tr>\n",
       "                <tr>\n",
       "                    <td style=\"text-align: left;\">\n",
       "                        <strong>Dashboard:</strong> <a href=\"https://jupyterhub.hpc.ucar.edu/stable/user/fredc/proxy/8787/status\" target=\"_blank\">https://jupyterhub.hpc.ucar.edu/stable/user/fredc/proxy/8787/status</a>\n",
       "                    </td>\n",
       "                    <td style=\"text-align: left;\">\n",
       "                        <strong>Total threads:</strong> 0\n",
       "                    </td>\n",
       "                </tr>\n",
       "                <tr>\n",
       "                    <td style=\"text-align: left;\">\n",
       "                        <strong>Started:</strong> Just now\n",
       "                    </td>\n",
       "                    <td style=\"text-align: left;\">\n",
       "                        <strong>Total memory:</strong> 0 B\n",
       "                    </td>\n",
       "                </tr>\n",
       "            </table>\n",
       "        </div>\n",
       "    </div>\n",
       "\n",
       "    <details style=\"margin-left: 48px;\">\n",
       "        <summary style=\"margin-bottom: 20px;\">\n",
       "            <h3 style=\"display: inline;\">Workers</h3>\n",
       "        </summary>\n",
       "\n",
       "        \n",
       "\n",
       "    </details>\n",
       "</div>\n",
       "\n",
       "        </details>\n",
       "    </div>\n",
       "</div>"
      ],
      "text/plain": [
       "PBSCluster(c4c5f42f, 'tcp://10.12.206.59:46817', workers=0, threads=0, memory=0 B)"
      ]
     },
     "metadata": {},
     "output_type": "display_data"
    }
   ],
   "source": [
    "cluster"
   ]
  },
  {
   "cell_type": "code",
   "execution_count": 6,
   "id": "f8912822-ca3a-48b0-8506-336a403cc2b5",
   "metadata": {},
   "outputs": [],
   "source": [
    "def time_set_midmonth(ds, time_name, deep=False):\n",
    "    \"\"\"\n",
    "    Return copy of ds with values of ds[time_name] replaced with mid-month\n",
    "    values (day=15) rather than end-month values.\n",
    "    \"\"\"\n",
    "    year = ds[time_name].dt.year\n",
    "    month = ds[time_name].dt.month\n",
    "    year = xr.where(month==1,year-1,year)\n",
    "    month = xr.where(month==1,12,month-1)\n",
    "    nmonths = len(month)\n",
    "    newtime = [cftime.DatetimeNoLeap(year[i], month[i], 15) for i in range(nmonths)]\n",
    "    ds[time_name] = newtime\n",
    "    return ds\n",
    "\n",
    "# shift VVEL to 3121 position\n",
    "def shiftVVEL(v):\n",
    "    v_w = v.roll(nlon=1,roll_coords=False)\n",
    "    v = 0.5*(v+v_w)\n",
    "    return v.drop(['ULONG','TLAT'])"
   ]
  },
  {
   "cell_type": "markdown",
   "id": "5fa45b56-dabc-4c69-8466-4968ed2e6a60",
   "metadata": {},
   "source": [
    "# Get the required variables "
   ]
  },
  {
   "cell_type": "code",
   "execution_count": 7,
   "id": "bfd76d96-d57c-43a3-82e3-b18ce54609a4",
   "metadata": {},
   "outputs": [],
   "source": [
    "#fdir = '/glade/campaign/collections/cmip/CMIP6/iHESP/BRCP85/HR/b.e13.BRCP85C5.ne120_t12.cesm-ihesp-hires1.0.30.002/ocn/proc/tseries/month_1/'\n",
    "#fdir = '/glade/campaign/collections/cmip/CMIP6/iHESP/BRCP85/HR/b.e13.BRCP85C5.ne120_t12.cesm-ihesp-hires1.0.31.003/ocn/proc/tseries/month_1/'\n",
    "#fdir = '/glade/campaign/collections/cmip/CMIP6/iHESP/BRCP45/HR/b.e13.BRCP45C5.ne120_t12.cesm-ihesp-hires1.0.42.003/ocn/proc/tseries/month_1/'\n",
    "fdir = '/glade/campaign/collections/cmip/CMIP6/iHESP/BRCP26/HR/b.e13.BRCP26C5.ne120_t12.cesm-ihesp-hires1.0.42.003/ocn/proc/tseries/month_1/'\n",
    "\n",
    "#fin = fdir + 'b.e13.BRCP85C5.ne120_t12.cesm-ihesp-hires1.0.30.002.pop.h.VVEL.200601-210012.nc'\n",
    "#fin = fdir + 'b.e13.BRCP85C5.ne120_t12.cesm-ihesp-hires1.0.31.003.pop.h.VVEL.200601-210012.nc'\n",
    "#fin = fdir + 'b.e13.BRCP45C5.ne120_t12.cesm-ihesp-hires1.0.42.003.pop.h.VVEL.200601-210012.nc'\n",
    "fin = fdir + 'b.e13.BRCP26C5.ne120_t12.cesm-ihesp-hires1.0.42.003.pop.h.VVEL.200601-210012.nc'\n",
    "dsV = xr.open_dataset(fin, chunks={'time':1,'nlon':100})\n",
    "dsV = time_set_midmonth(dsV,'time')\n",
    "\n",
    "#fin = fdir + 'b.e13.BRCP85C5.ne120_t12.cesm-ihesp-hires1.0.30.002.pop.h.WVEL.200601-210012.nc'\n",
    "#fin = fdir + 'b.e13.BRCP85C5.ne120_t12.cesm-ihesp-hires1.0.31.003.pop.h.WVEL.200601-210012.nc'\n",
    "#fin = fdir + 'b.e13.BRCP45C5.ne120_t12.cesm-ihesp-hires1.0.42.003.pop.h.WVEL.200601-210012.nc'\n",
    "fin = fdir + 'b.e13.BRCP26C5.ne120_t12.cesm-ihesp-hires1.0.42.003.pop.h.WVEL.200601-210012.nc'\n",
    "dsW = xr.open_dataset(fin, chunks={'time':1,'nlon':100})\n",
    "dsW = time_set_midmonth(dsW,'time')\n",
    "\n",
    "fgrd = '/glade/work/fredc/cesm/grid/POP/grid.3600x2400x62.nc'\n",
    "ds_grid = xr.open_dataset(fgrd)\n",
    "#ds_grid = pop_tools.get_grid('/glade/work/fredc/cesm/grid/POP/grid.3600x2400x62.nc')\n",
    "\n",
    "fmoc = 'POP_MOC/moc_template.nc'\n",
    "ds_moctemp = xr.open_dataset(fmoc)"
   ]
  },
  {
   "cell_type": "code",
   "execution_count": 8,
   "id": "6db74409-71a6-4b3f-8abb-825041b0e712",
   "metadata": {},
   "outputs": [
    {
     "name": "stdout",
     "output_type": "stream",
     "text": [
      "CPU times: user 8.32 ms, sys: 737 µs, total: 9.06 ms\n",
      "Wall time: 9.07 ms\n"
     ]
    }
   ],
   "source": [
    "%%time\n",
    "v_e_all = dsV['VVEL']\n",
    "v_e_all = v_e_all.where(v_e_all<1.e30,0)\n",
    "w_e_all = dsW['WVEL'].drop(['ULONG','ULAT'])\n",
    "w_e_all = w_e_all.where(w_e_all<1.e30, 0)"
   ]
  },
  {
   "cell_type": "code",
   "execution_count": 9,
   "id": "db7823be-f297-468a-adf8-0d6af39fec46",
   "metadata": {},
   "outputs": [],
   "source": [
    "tlon = ds_grid.TLONG.drop(['ULONG','ULAT'])\n",
    "tlat = ds_grid.TLAT.drop(['ULONG','ULAT'])\n",
    "ulon = ds_grid.ULONG.drop(['TLONG','TLAT'])\n",
    "ulat = ds_grid.ULAT.drop(['TLONG','TLAT'])"
   ]
  },
  {
   "cell_type": "markdown",
   "id": "a2a5825a-7357-4456-8c55-c9792518bf2a",
   "metadata": {},
   "source": [
    "# MOC Region Mask"
   ]
  },
  {
   "cell_type": "code",
   "execution_count": 10,
   "id": "735aa170-5de3-4155-9d0a-37fa73e76668",
   "metadata": {},
   "outputs": [],
   "source": [
    "## Define the MOC region mask:\n",
    "rmask = ds_grid.REGION_MASK.drop(['ULONG','ULAT'])\n",
    "rmaskglob = xr.where((rmask>0),1,0)\n",
    "rmaskatl = xr.where((rmask>=6) & (rmask<=11),1,0)\n",
    "rmaskmoc = xr.concat([rmaskglob,rmaskatl],dim=ds_moctemp.transport_regions)"
   ]
  },
  {
   "cell_type": "code",
   "execution_count": 11,
   "id": "63a81682-be5a-4e12-83b3-3d3e26293b4c",
   "metadata": {},
   "outputs": [],
   "source": [
    "# determine j=index of Atlantic region southern boundary\n",
    "tmp = rmaskmoc.isel(transport_reg=1).sum('nlon')\n",
    "atl_j = 0\n",
    "j = 0\n",
    "while (atl_j==0):\n",
    "    if (tmp.isel(nlat=j).data>0):\n",
    "        atl_j = j\n",
    "    j += 1\n",
    "atl_j = atl_j - 1"
   ]
  },
  {
   "cell_type": "markdown",
   "id": "4ff84f92-64b2-4e0d-8dc7-c7556aff471b",
   "metadata": {},
   "source": [
    "# Loop over time slices and compute MOC "
   ]
  },
  {
   "cell_type": "code",
   "execution_count": 12,
   "id": "13f9ac72-dc88-44c6-a9a1-ddb7afe92c5e",
   "metadata": {},
   "outputs": [],
   "source": [
    "ystart=[2006,2010,2020,2030,2040,2050,2060,2070,2080,2090,2100]\n",
    "yend=[2009,2019,2029,2039,2049,2059,2069,2079,2089,2099,2100]"
   ]
  },
  {
   "cell_type": "code",
   "execution_count": 13,
   "id": "186dcbf1-7003-4c2c-ae0e-c6a4383f0145",
   "metadata": {},
   "outputs": [],
   "source": [
    "for n in range(len(ystart)):\n",
    "    v_e = v_e_all.sel(time=slice(cftime.DatetimeNoLeap(ystart[n], 1, 1), cftime.DatetimeNoLeap(yend[n], 12, 31)))\n",
    "    w_e = w_e_all.sel(time=slice(cftime.DatetimeNoLeap(ystart[n], 1, 1), cftime.DatetimeNoLeap(yend[n], 12, 31)))\n",
    "    \n",
    "    v_e = shiftVVEL(v_e)\n",
    "    \n",
    "    # grid-oriented volume fluxes in m^3/s\n",
    "    tarea = ds_grid['TAREA'].drop(['ULONG','ULAT']).astype(w_e.dtype)\n",
    "    w_e = w_e*tarea/1.e6\n",
    "    dxdz = (ds_grid['HTN'].drop(['ULONG','TLAT'])*ds_grid['dz']).astype(v_e.dtype)\n",
    "    v_e = v_e*dxdz/1.e6\n",
    "    \n",
    "    #add an extra level corresponding to zero values at ocean floor. (requires rechunking)\n",
    "    w_e_bot = xr.zeros_like(w_e.isel(z_w_top=-1))\n",
    "    w_e_bot['z_w_top'] = ds_grid.z_w_bot[-1].data\n",
    "    wflux = xr.concat([w_e,w_e_bot],dim='z_w_top').rename({'z_w_top':'moc_z'}).chunk({'moc_z':63})\n",
    "\n",
    "    v_e_bot = xr.zeros_like(v_e.isel(z_t=-1))\n",
    "    v_e_bot['z_t'] = ds_grid.z_w_bot[-1].data\n",
    "    vflux = xr.concat([v_e,v_e_bot],dim='z_t').chunk({'z_t':63})\n",
    "    \n",
    "    wflux = wflux.assign_coords({'TLONG':tlon, 'TLAT':tlat})\n",
    "    vflux = vflux.assign_coords({'TLONG':tlon, 'ULAT':tlat})\n",
    "    \n",
    "    #Compute MOC\n",
    "    MOC = popmoc.compute_MOC(wflux,rmaskmoc,ds_moctemp.lat_aux_grid)\n",
    "    MOC = MOC.load()\n",
    "    \n",
    "    # add vflux at southern boundary of Atlantic domain\n",
    "    tmp = vflux*(rmaskmoc.shift(nlat=-1))\n",
    "    tmp = tmp.isel(nlat=atl_j,transport_reg=1).sum('nlon').rename({'z_t':'moc_z'})\n",
    "    mocatl_s = -tmp.sortby('moc_z',ascending=False).cumsum('moc_z').sortby('moc_z',ascending=True)/1.e6\n",
    "    mocatl_s['moc_z'] = MOC['moc_z']\n",
    "    mocatl_s = mocatl_s.load()\n",
    "    MOC[{'transport_reg':1}] = MOC[{'transport_reg':1}] + mocatl_s\n",
    "    \n",
    "    #Write to netcdf\n",
    "    dso = MOC.to_dataset(name='MOC')\n",
    "    \n",
    "    outdir = os.path.dirname(fin)\n",
    "    fout = os.path.split(fin)[-1].split('.')[:-3]\n",
    "    fout.append('MOCz')\n",
    "    fout.append('{:04d}{:02d}-{:04d}{:02d}'.format(dso.time.dt.year[0].values,dso.time.dt.month[0].values,dso.time.dt.year[-1].values,dso.time.dt.month[-1].values))\n",
    "    fout.append('nc')\n",
    "    fout = '.'.join(fout)\n",
    "    fout = os.path.join(outdir,fout)\n",
    "    \n",
    "    dso.to_netcdf(fout)"
   ]
  },
  {
   "cell_type": "code",
   "execution_count": null,
   "id": "f37f270f-8203-4868-8277-55a05b0a36b8",
   "metadata": {},
   "outputs": [],
   "source": []
  }
 ],
 "metadata": {
  "kernelspec": {
   "display_name": "ipogs",
   "language": "python",
   "name": "ipogs"
  },
  "language_info": {
   "codemirror_mode": {
    "name": "ipython",
    "version": 3
   },
   "file_extension": ".py",
   "mimetype": "text/x-python",
   "name": "python",
   "nbconvert_exporter": "python",
   "pygments_lexer": "ipython3",
   "version": "3.10.9"
  }
 },
 "nbformat": 4,
 "nbformat_minor": 5
}
