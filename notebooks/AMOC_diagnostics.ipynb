{
 "cells": [
  {
   "cell_type": "markdown",
   "metadata": {},
   "source": [
    "# AMOC Diagnostics Overview\n",
    "**Goal:** Extract data from a specific simulation and spatial extent and creates quick AMOC diagnostics. This notebook provides an overview of AMOC-related goals for this repository; use the next two notebooks in this repository for calculation.  \n",
    "**Date:** February 2023  \n",
    "**Creator:** Teagan King, February 2023  \n",
    "**Much of this notebook is based on contributions from:** Abishek Gopal, Qiuying Zhang, Fred Castruccio, Steve Yeager"
   ]
  },
  {
   "cell_type": "markdown",
   "metadata": {},
   "source": [
    "## To Do:  \n",
    "[x] HR HF-TNST with RCP8.5 m1  \n",
    "   - data location: /glade/campaign/collections/cmip/CMIP6/iHESP/BHIST/HR/B.E.13.BHISTC5.ne120_t12.sehires38.003.sunway/ocn/proc/tseries/month_1\n",
    "\n",
    "[x] HR HF-TNST with RCP8.5 m2  \n",
    "   - Qiuying made AMOC here on Grace: /ihesp/archive/BHIST_1920-2100/b.e13.BRCP85C5.ne120_t12.cesm-ihesp-hires1.0.30.002/tseries/ocn/month_1/* MOCz *   \n",
    "   - [] still need sigma?  \n",
    "        - data location: /glade/campaign/collections/cmip/CMIP6/iHESP/BHIST/HR/  \n",
    "\n",
    "[x] HR HF-TNST with RCP8.5 m3  \n",
    "   - Qiuying made AMOC here on Grace: /ihesp/archive/BHIST_1920-2100/b.e13.BRCP85C5.ne120_t12.cesm-ihesp-hires1.0.31.003/tseries/ocn/month_1/* MOCz *  \n",
    "   - [] still need sigma?  \n",
    "        - data location: /glade/campaign/collections/cmip/CMIP6/iHESP/BHIST/HR/  \n",
    "\n",
    "[x] HR HF-TNST with RCP8.5 3-member ensemble  \n",
    "   - data location: /glade/campaign/collections/cmip/CMIP6/iHESP/BRCP85/HR\n",
    "\n",
    "[x] HR HF-TNST with RCP4.5  \n",
    "   - data location:  /glade/campaign/collections/cmip/CMIP6/iHESP/BRCP45/HR\n",
    "\n",
    "[x] HR HF-TNST with RCP2.6  \n",
    "   - data location:  /glade/campaign/collections/cmip/CMIP6/iHESP/BRCP26/HR\n",
    "\n",
    "[s] HR HF-TNST - RCPs ensemble  \n",
    "   - data location:  /glade/campaign/collections/cmip/CMIP6/iHESP/BRCP*\n"
   ]
  },
  {
   "cell_type": "markdown",
   "metadata": {},
   "source": [
    "## Work at TAMU (Qiuying/Abishek)\n",
    "MOC time series were created by Abishek with this code: \n",
    "/ihesp/shared/POP_MOC/submit_pop_moc_0p1deg_B1950.sh & batch_moc_script.sh"
   ]
  },
  {
   "cell_type": "markdown",
   "metadata": {},
   "source": [
    "## Steve's work:\n",
    "\n",
    "Notebooks for processing 0.1deg POP output into AMOC(z) and AMOC(sigma):\n",
    "https://github.com/sgyeager/POP_MOC/blob/main/notebooks/pop_MOCz_0.1deg.ipynb\n",
    "https://github.com/sgyeager/POP_MOC/blob/main/notebooks/pop_MOCsig2_0.1deg.ipynb\n",
    "\n",
    "These will be adapted in the two notebooks included in this repo. They use dask and operate on 12-months of HR output, generating output in a couple minutes. For processing many decades of transient run output, some mods will be\n",
    "needed. One option is to use notebooks (modifying the inputs, dask cluster size, etc to crunch timeseries inputs); another option is to convert to .py scripts that can be called from shell scripts. The latter might require figuring out dask-mpi?"
   ]
  },
  {
   "cell_type": "code",
   "execution_count": null,
   "metadata": {},
   "outputs": [],
   "source": []
  }
 ],
 "metadata": {
  "kernelspec": {
   "display_name": "ipogs",
   "language": "python",
   "name": "ipogs"
  },
  "language_info": {
   "codemirror_mode": {
    "name": "ipython",
    "version": 3
   },
   "file_extension": ".py",
   "mimetype": "text/x-python",
   "name": "python",
   "nbconvert_exporter": "python",
   "pygments_lexer": "ipython3",
   "version": "3.10.9"
  }
 },
 "nbformat": 4,
 "nbformat_minor": 4
}
