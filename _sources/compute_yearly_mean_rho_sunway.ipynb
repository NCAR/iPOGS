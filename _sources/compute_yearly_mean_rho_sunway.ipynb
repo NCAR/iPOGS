{
 "cells": [
  {
   "cell_type": "code",
   "execution_count": null,
   "metadata": {},
   "outputs": [],
   "source": [
    "%load_ext autoreload\n",
    "%autoreload 2\n",
    "import xarray as xr \n",
    "import numpy as np  \n",
    "import cftime\n",
    "import datetime\n",
    "import copy\n",
    "import scipy.stats\n",
    "from scipy import signal\n",
    "from functools import partial\n",
    "import glob\n",
    "import dask\n",
    "import gsw\n",
    "import matplotlib as mpl\n",
    "import matplotlib.pyplot as plt\n",
    "import matplotlib.units as munits\n",
    "from matplotlib.dates import ConciseDateConverter\n",
    "munits.registry[cftime.DatetimeNoLeap] = ConciseDateConverter()\n",
    "munits.registry[cftime.datetime] = ConciseDateConverter()\n",
    "import cartopy\n",
    "import cartopy.crs as ccrs\n",
    "import cartopy.feature as cfeature\n",
    "from cartopy.util import add_cyclic_point\n",
    "import matplotlib.ticker as mticker\n",
    "%matplotlib inline\n",
    "\n",
    "import os"
   ]
  },
  {
   "cell_type": "code",
   "execution_count": 2,
   "metadata": {},
   "outputs": [
    {
     "data": {
      "text/plain": [
       "'2021.09.0'"
      ]
     },
     "execution_count": 2,
     "metadata": {},
     "output_type": "execute_result"
    }
   ],
   "source": [
    "import dask\n",
    "from dask.distributed import wait\n",
    "dask.__version__"
   ]
  },
  {
   "cell_type": "markdown",
   "metadata": {
    "tags": []
   },
   "source": [
    "## Create Dask Cluster"
   ]
  },
  {
   "cell_type": "code",
   "execution_count": 3,
   "metadata": {
    "tags": []
   },
   "outputs": [],
   "source": [
    "# Close out Dask Cluster and release workers:\n",
    "# NOTE:  only run this cell to terminate Dask Cluster!\n",
    "#cluster.close()\n",
    "#client.close()"
   ]
  },
  {
   "cell_type": "code",
   "execution_count": 4,
   "metadata": {},
   "outputs": [
    {
     "name": "stderr",
     "output_type": "stream",
     "text": [
      "/glade/work/fredc/miniconda3/envs/sparse/lib/python3.7/site-packages/distributed/node.py:161: UserWarning: Port 8787 is already in use.\n",
      "Perhaps you already have a cluster running?\n",
      "Hosting the HTTP server on port 45178 instead\n",
      "  f\"Port {expected} is already in use.\\n\"\n"
     ]
    }
   ],
   "source": [
    "# Use this if computing annual means:\n",
    "def get_ClusterClient():\n",
    "    import dask\n",
    "    from dask_jobqueue import PBSCluster\n",
    "    from dask.distributed import Client\n",
    "    cluster = PBSCluster(\n",
    "        cores=1,\n",
    "        memory='50GB',\n",
    "        processes=1,\n",
    "        queue='casper',\n",
    "        resource_spec='select=1:ncpus=1:mem=50GB',\n",
    "        project='NCGD0011',\n",
    "        walltime='02:00:00',\n",
    "        interface='ib0',)\n",
    "\n",
    "    dask.config.set({\n",
    "        'distributed.dashboard.link':\n",
    "        'https://jupyterhub.hpc.ucar.edu/stable/user/{USER}/proxy/{port}/status',\n",
    "        'array.slicing.split_large_chunks': True\n",
    "    })\n",
    "    client = Client(cluster)\n",
    "    return cluster, client\n",
    "\n",
    "cluster, client = get_ClusterClient()\n",
    "cluster.scale(72) "
   ]
  },
  {
   "cell_type": "code",
   "execution_count": 5,
   "metadata": {
    "tags": []
   },
   "outputs": [
    {
     "data": {
      "text/html": [
       "<div class=\"jp-RenderedHTMLCommon jp-RenderedHTML jp-mod-trusted jp-OutputArea-output\">\n",
       "    <div style=\"width: 24px; height: 24px; background-color: #e1e1e1; border: 3px solid #9D9D9D; border-radius: 5px; position: absolute;\">\n",
       "    </div>\n",
       "    <div style=\"margin-left: 48px;\">\n",
       "        <h3 style=\"margin-bottom: 0px; margin-top: 0px;\">PBSCluster</h3>\n",
       "        <p style=\"color: #9D9D9D; margin-bottom: 0px;\">6e505752</p>\n",
       "        <table style=\"width: 100%; text-align: left;\">\n",
       "            <tr>\n",
       "                <td style=\"text-align: left;\">\n",
       "                    <strong>Dashboard:</strong> <a href=\"https://jupyterhub.hpc.ucar.edu/stable/user/fredc/proxy/45178/status\" target=\"_blank\">https://jupyterhub.hpc.ucar.edu/stable/user/fredc/proxy/45178/status</a>\n",
       "                </td>\n",
       "                <td style=\"text-align: left;\">\n",
       "                    <strong>Workers:</strong> 0\n",
       "                </td>\n",
       "            </tr>\n",
       "            <tr>\n",
       "                <td style=\"text-align: left;\">\n",
       "                    <strong>Total threads:</strong> 0\n",
       "                </td>\n",
       "                <td style=\"text-align: left;\">\n",
       "                    <strong>Total memory:</strong> 0 B\n",
       "                </td>\n",
       "            </tr>\n",
       "            \n",
       "        </table>\n",
       "\n",
       "        <details>\n",
       "            <summary style=\"margin-bottom: 20px;\">\n",
       "                <h3 style=\"display: inline;\">Scheduler Info</h3>\n",
       "            </summary>\n",
       "\n",
       "            <div style=\"\">\n",
       "    <div>\n",
       "        <div style=\"width: 24px; height: 24px; background-color: #FFF7E5; border: 3px solid #FF6132; border-radius: 5px; position: absolute;\"> </div>\n",
       "        <div style=\"margin-left: 48px;\">\n",
       "            <h3 style=\"margin-bottom: 0px;\">Scheduler</h3>\n",
       "            <p style=\"color: #9D9D9D; margin-bottom: 0px;\">Scheduler-aa29ddda-b8ff-4978-ac9b-3b030b124d47</p>\n",
       "            <table style=\"width: 100%; text-align: left;\">\n",
       "                <tr>\n",
       "                    <td style=\"text-align: left;\">\n",
       "                        <strong>Comm:</strong> tcp://10.12.206.5:38722\n",
       "                    </td>\n",
       "                    <td style=\"text-align: left;\">\n",
       "                        <strong>Workers:</strong> 0\n",
       "                    </td>\n",
       "                </tr>\n",
       "                <tr>\n",
       "                    <td style=\"text-align: left;\">\n",
       "                        <strong>Dashboard:</strong> <a href=\"https://jupyterhub.hpc.ucar.edu/stable/user/fredc/proxy/45178/status\" target=\"_blank\">https://jupyterhub.hpc.ucar.edu/stable/user/fredc/proxy/45178/status</a>\n",
       "                    </td>\n",
       "                    <td style=\"text-align: left;\">\n",
       "                        <strong>Total threads:</strong> 0\n",
       "                    </td>\n",
       "                </tr>\n",
       "                <tr>\n",
       "                    <td style=\"text-align: left;\">\n",
       "                        <strong>Started:</strong> Just now\n",
       "                    </td>\n",
       "                    <td style=\"text-align: left;\">\n",
       "                        <strong>Total memory:</strong> 0 B\n",
       "                    </td>\n",
       "                </tr>\n",
       "            </table>\n",
       "        </div>\n",
       "    </div>\n",
       "\n",
       "    <details style=\"margin-left: 48px;\">\n",
       "        <summary style=\"margin-bottom: 20px;\">\n",
       "            <h3 style=\"display: inline;\">Workers</h3>\n",
       "        </summary>\n",
       "\n",
       "        \n",
       "\n",
       "    </details>\n",
       "</div>\n",
       "\n",
       "        </details>\n",
       "    </div>\n",
       "</div>"
      ],
      "text/plain": [
       "PBSCluster(6e505752, 'tcp://10.12.206.5:38722', workers=0, threads=0, memory=0 B)"
      ]
     },
     "metadata": {},
     "output_type": "display_data"
    }
   ],
   "source": [
    "cluster"
   ]
  },
  {
   "cell_type": "markdown",
   "metadata": {
    "tags": []
   },
   "source": [
    "# Main Processing"
   ]
  },
  {
   "cell_type": "code",
   "execution_count": 6,
   "metadata": {},
   "outputs": [
    {
     "name": "stdout",
     "output_type": "stream",
     "text": [
      "CPU times: user 22.6 ms, sys: 8.83 ms, total: 31.4 ms\n",
      "Wall time: 168 ms\n"
     ]
    }
   ],
   "source": [
    "%%time\n",
    "# get POP grid\n",
    "infile='/glade/work/fredc/metric/grid/POP_tx0.1v3_grid.nc'\n",
    "dsg = xr.open_dataset(infile)\n",
    "tlon = dsg.TLONG.persist()\n",
    "tlat = dsg.TLAT.persist()\n",
    "tarea = dsg.TAREA.persist()\n",
    "dzt = dsg.DZT.persist()\n",
    "dzu = dsg.DZU.persist()\n",
    "dxt = dsg.DXT.persist()\n",
    "dyt = dsg.DYT.persist()\n",
    "dxu = dsg.DXU.persist()\n",
    "dyu = dsg.DYU.persist()\n",
    "htn = dsg.HTN.persist()\n",
    "hte = dsg.HTE.persist()\n",
    "ht = dsg.HT.persist()\n",
    "hu = dsg.HU.persist()"
   ]
  },
  {
   "cell_type": "code",
   "execution_count": 7,
   "metadata": {},
   "outputs": [],
   "source": [
    "temp_path = '/glade/campaign/collections/cmip/CMIP6/iHESP/BRCP85/HR/B.E.13.BRCP85C5CN.ne120_t12.sehires38.003.sunway.CN_OFF/ocn/proc/tseries/month_1/B.E.13.BRCP85C5CN.ne120_t12.sehires38.003.sunway.CN_OFF.pop.h.TEMP.*.nc'\n",
    "temp_files = sorted(glob.glob(temp_path))\n",
    "temp_files = temp_files[:-2]"
   ]
  },
  {
   "cell_type": "code",
   "execution_count": 8,
   "metadata": {},
   "outputs": [],
   "source": [
    "salt_path = '/glade/campaign/collections/cmip/CMIP6/iHESP/BRCP85/HR/B.E.13.BRCP85C5CN.ne120_t12.sehires38.003.sunway.CN_OFF/ocn/proc/tseries/month_1/B.E.13.BRCP85C5CN.ne120_t12.sehires38.003.sunway.CN_OFF.pop.h.SALT.*.nc'\n",
    "salt_files = sorted(glob.glob(salt_path))\n",
    "salt_files = salt_files[:-2]"
   ]
  },
  {
   "cell_type": "code",
   "execution_count": 9,
   "metadata": {},
   "outputs": [],
   "source": [
    "nf = len(temp_files)"
   ]
  },
  {
   "cell_type": "code",
   "execution_count": null,
   "metadata": {},
   "outputs": [],
   "source": [
    "for n in range(nf):\n",
    "\n",
    "    dst = xr.open_mfdataset(temp_files[n],\n",
    "                        parallel=True, # use dask to read in parallel\n",
    "                        combine=\"nested\",  # combine files in order provided\n",
    "                        concat_dim=\"time\",  # concatentate files along time dimension\n",
    "                        data_vars=\"minimal\",  # only concatentate data variables with \"time\" dimension\n",
    "                        coords=\"minimal\",  # same as above for coordinate variables\n",
    "                        compat=\"override\",\n",
    "                        #preprocess=preprocess, # run this function on each dataset first before combining\n",
    "                        chunks={\"nlat\": \"auto\", \"nlon\": \"auto\", \"z_t\":\"auto\"}, # choose simple\n",
    "                       )\n",
    "    dst['time'] = dst.time - datetime.timedelta(15) #middle of the month\n",
    "    temp = dst.TEMP\n",
    "    month_length = dst.time.dt.days_in_month\n",
    "    wgts = month_length.groupby(\"time.year\") / month_length.groupby(\"time.year\").sum()\n",
    "    ytemp = (temp * wgts).resample(time=\"AS\").sum(dim=\"time\") / (xr.ones_like(temp) * wgts).resample(time=\"AS\").sum(dim=\"time\")\n",
    "    ytemp = ytemp.where(ytemp!=0)\n",
    "\n",
    "    dss = xr.open_mfdataset(salt_files[n],\n",
    "                        parallel=True, # use dask to read in parallel\n",
    "                        combine=\"nested\",  # combine files in order provided\n",
    "                        concat_dim=\"time\",  # concatentate files along time dimension\n",
    "                        data_vars=\"minimal\",  # only concatentate data variables with \"time\" dimension\n",
    "                        coords=\"minimal\",  # same as above for coordinate variables\n",
    "                        compat=\"override\",\n",
    "                        #preprocess=preprocess, # run this function on each dataset first before combining\n",
    "                        chunks={\"nlat\": \"auto\", \"nlon\": \"auto\", \"z_t\":\"auto\"}, # choose simple\n",
    "                       )    \n",
    "    dss['time'] = dst['time']\n",
    "    salt = dss.SALT\n",
    "    ysalt = (salt * wgts).resample(time=\"AS\").sum(dim=\"time\") / (xr.ones_like(salt) * wgts).resample(time=\"AS\").sum(dim=\"time\")\n",
    "    ysalt = ysalt.where(ysalt!=0)\n",
    "    \n",
    "    p = gsw.p_from_z(-dst.z_t/100., tlat)\n",
    "    SA = gsw.SA_from_SP(ysalt, p, tlon, tlat)\n",
    "    CT = gsw.CT_from_pt(SA, ytemp)\n",
    "    rho = gsw.rho(SA,CT,p)\n",
    "    rho['z_t'] = dzt.z_t\n",
    "    \n",
    "    #Write to netcdf\n",
    "    dso = rho.to_dataset(name='RHO')\n",
    "    \n",
    "    outdir = outdir = os.path.dirname(temp_files[n]).replace('month_1','year_1')\n",
    "    fout = os.path.split(temp_files[n])[-1].split('.')[:-3]\n",
    "    fout.append('RHO')\n",
    "    fout.append('{:04d}'.format(dso.time.dt.year[0].values))\n",
    "    fout.append('nc')\n",
    "    fout = '.'.join(fout)\n",
    "    fout = os.path.join(outdir,fout)\n",
    "    \n",
    "    dso.to_netcdf(fout, unlimited_dims='time')"
   ]
  },
  {
   "cell_type": "code",
   "execution_count": null,
   "metadata": {},
   "outputs": [],
   "source": []
  },
  {
   "cell_type": "code",
   "execution_count": null,
   "metadata": {},
   "outputs": [],
   "source": []
  }
 ],
 "metadata": {
  "kernelspec": {
   "display_name": "atm_diag_env",
   "language": "python",
   "name": "atm_diag_env"
  },
  "language_info": {
   "codemirror_mode": {
    "name": "ipython",
    "version": 3
   },
   "file_extension": ".py",
   "mimetype": "text/x-python",
   "name": "python",
   "nbconvert_exporter": "python",
   "pygments_lexer": "ipython3",
   "version": "3.9.7"
  }
 },
 "nbformat": 4,
 "nbformat_minor": 4
}
