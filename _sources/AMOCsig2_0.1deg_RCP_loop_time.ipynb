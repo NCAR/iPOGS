{
 "cells": [
  {
   "cell_type": "markdown",
   "id": "679a030a-3120-4ff4-89dd-6ae6e0673f1c",
   "metadata": {},
   "source": [
    "# POP MOC(sigma 2) for 0.1-degree\n",
    "**Input Data:** Monthly POP output timeseries files  \n",
    "**Output Data:** Monthly mean AMOC sigma 2 timeseries  \n",
    "**Description:** Computes MOC(sigma 2) offline from POP history files using simple xhistogram binning.  \n",
    "**Date:** February 2023  \n",
    "**Creator:** Steve Yeager (https://github.com/sgyeager/POP_MOC/blob/main/notebooks/pop_MOCsigma2_0.1deg.ipynb)  \n",
    "**Updated:** Fred Castruccio and Teagan King, February 2023  \n",
    "**Note:** To use the MOCutils, a user will need to clone the POP_MOC repository (https://github.com/sgyeager/POP_MOC) and install MOCutils by going to the POP_MOC directory and running `pip install -e . --user`."
   ]
  },
  {
   "cell_type": "code",
   "execution_count": 1,
   "id": "805d16fe-218e-4b5b-bb21-cbcdf5c6a71d",
   "metadata": {},
   "outputs": [],
   "source": [
    "%load_ext autoreload\n",
    "%autoreload 2\n",
    "import cftime\n",
    "import copy\n",
    "import dask\n",
    "import glob\n",
    "import matplotlib.pyplot as plt\n",
    "%matplotlib inline\n",
    "from MOCutils import popmoc\n",
    "import numpy as np  \n",
    "import os\n",
    "import pop_tools\n",
    "import time\n",
    "import xarray as xr \n",
    "from xhistogram.xarray import histogram"
   ]
  },
  {
   "cell_type": "code",
   "execution_count": 2,
   "id": "f06f451e-1138-41e1-9873-fbcd84c569fb",
   "metadata": {},
   "outputs": [
    {
     "data": {
      "text/plain": [
       "'2022.11.0'"
      ]
     },
     "execution_count": 2,
     "metadata": {},
     "output_type": "execute_result"
    }
   ],
   "source": [
    "from dask.distributed import wait\n",
    "dask.__version__"
   ]
  },
  {
   "cell_type": "code",
   "execution_count": 3,
   "id": "3fcf1c43-d10e-43f5-99e5-7d1a3384979f",
   "metadata": {},
   "outputs": [
    {
     "data": {
      "text/plain": [
       "'2023.3.0'"
      ]
     },
     "execution_count": 3,
     "metadata": {},
     "output_type": "execute_result"
    }
   ],
   "source": [
    "pop_tools.__version__"
   ]
  },
  {
   "cell_type": "code",
   "execution_count": 4,
   "id": "635ea7f0-16c3-4339-a63d-d9313594b32d",
   "metadata": {},
   "outputs": [],
   "source": [
    "# Close out Dask Cluster and release workers:\n",
    "# cluster.close()\n",
    "# client.close()"
   ]
  },
  {
   "cell_type": "code",
   "execution_count": 5,
   "id": "f91c3ef5-b0e3-47a9-937d-8cfdd022139c",
   "metadata": {},
   "outputs": [
    {
     "name": "stderr",
     "output_type": "stream",
     "text": [
      "/glade/u/home/tking/.conda/envs/ipogs_from_steve/lib/python3.10/site-packages/distributed/node.py:183: UserWarning: Port 8787 is already in use.\n",
      "Perhaps you already have a cluster running?\n",
      "Hosting the HTTP server on port 42546 instead\n",
      "  warnings.warn(\n"
     ]
    }
   ],
   "source": [
    "# TODO: optimize dask resources\n",
    "\n",
    "def get_ClusterClient():\n",
    "    import dask\n",
    "    from dask_jobqueue import PBSCluster\n",
    "    from dask.distributed import Client\n",
    "    cluster = PBSCluster(\n",
    "        cores=1,\n",
    "        memory='20GiB',\n",
    "        processes=1,\n",
    "        queue='casper',\n",
    "        resource_spec='select=1:ncpus=1:mem=20GB', \n",
    "        account='P93300313',\n",
    "        walltime='06:00:00',\n",
    "        interface='ib0',)\n",
    "\n",
    "    dask.config.set({\n",
    "        'distributed.dashboard.link':\n",
    "        'https://jupyterhub.hpc.ucar.edu/stable/user/{USER}/proxy/{port}/status',\n",
    "        \"distributed.scheduler.worker-saturation\": \"1.0\",\n",
    "        'array.slicing.split_large_chunks': True\n",
    "    })\n",
    "    client = Client(cluster)\n",
    "    return cluster, client\n",
    "\n",
    "cluster, client = get_ClusterClient()\n",
    "cluster.scale(50) "
   ]
  },
  {
   "cell_type": "code",
   "execution_count": 6,
   "id": "49a6223b-9bb0-4097-a606-d54e0a41dd84",
   "metadata": {},
   "outputs": [
    {
     "data": {
      "text/html": [
       "<div>\n",
       "    <div style=\"width: 24px; height: 24px; background-color: #e1e1e1; border: 3px solid #9D9D9D; border-radius: 5px; position: absolute;\"> </div>\n",
       "    <div style=\"margin-left: 48px;\">\n",
       "        <h3 style=\"margin-bottom: 0px;\">Client</h3>\n",
       "        <p style=\"color: #9D9D9D; margin-bottom: 0px;\">Client-e9fb0fee-bd39-11ed-96a3-3cecef1b11de</p>\n",
       "        <table style=\"width: 100%; text-align: left;\">\n",
       "\n",
       "        <tr>\n",
       "        \n",
       "            <td style=\"text-align: left;\"><strong>Connection method:</strong> Cluster object</td>\n",
       "            <td style=\"text-align: left;\"><strong>Cluster type:</strong> dask_jobqueue.PBSCluster</td>\n",
       "        \n",
       "        </tr>\n",
       "\n",
       "        \n",
       "            <tr>\n",
       "                <td style=\"text-align: left;\">\n",
       "                    <strong>Dashboard: </strong> <a href=\"https://jupyterhub.hpc.ucar.edu/stable/user/tking/proxy/42546/status\" target=\"_blank\">https://jupyterhub.hpc.ucar.edu/stable/user/tking/proxy/42546/status</a>\n",
       "                </td>\n",
       "                <td style=\"text-align: left;\"></td>\n",
       "            </tr>\n",
       "        \n",
       "\n",
       "        </table>\n",
       "\n",
       "        \n",
       "            <button style=\"margin-bottom: 12px;\" data-commandlinker-command=\"dask:populate-and-launch-layout\" data-commandlinker-args='{\"url\": \"https://jupyterhub.hpc.ucar.edu/stable/user/tking/proxy/42546/status\" }'>\n",
       "                Launch dashboard in JupyterLab\n",
       "            </button>\n",
       "        \n",
       "\n",
       "        \n",
       "            <details>\n",
       "            <summary style=\"margin-bottom: 20px;\"><h3 style=\"display: inline;\">Cluster Info</h3></summary>\n",
       "            <div class=\"jp-RenderedHTMLCommon jp-RenderedHTML jp-mod-trusted jp-OutputArea-output\">\n",
       "    <div style=\"width: 24px; height: 24px; background-color: #e1e1e1; border: 3px solid #9D9D9D; border-radius: 5px; position: absolute;\">\n",
       "    </div>\n",
       "    <div style=\"margin-left: 48px;\">\n",
       "        <h3 style=\"margin-bottom: 0px; margin-top: 0px;\">PBSCluster</h3>\n",
       "        <p style=\"color: #9D9D9D; margin-bottom: 0px;\">491271cf</p>\n",
       "        <table style=\"width: 100%; text-align: left;\">\n",
       "            <tr>\n",
       "                <td style=\"text-align: left;\">\n",
       "                    <strong>Dashboard:</strong> <a href=\"https://jupyterhub.hpc.ucar.edu/stable/user/tking/proxy/42546/status\" target=\"_blank\">https://jupyterhub.hpc.ucar.edu/stable/user/tking/proxy/42546/status</a>\n",
       "                </td>\n",
       "                <td style=\"text-align: left;\">\n",
       "                    <strong>Workers:</strong> 0\n",
       "                </td>\n",
       "            </tr>\n",
       "            <tr>\n",
       "                <td style=\"text-align: left;\">\n",
       "                    <strong>Total threads:</strong> 0\n",
       "                </td>\n",
       "                <td style=\"text-align: left;\">\n",
       "                    <strong>Total memory:</strong> 0 B\n",
       "                </td>\n",
       "            </tr>\n",
       "            \n",
       "        </table>\n",
       "\n",
       "        <details>\n",
       "            <summary style=\"margin-bottom: 20px;\">\n",
       "                <h3 style=\"display: inline;\">Scheduler Info</h3>\n",
       "            </summary>\n",
       "\n",
       "            <div style=\"\">\n",
       "    <div>\n",
       "        <div style=\"width: 24px; height: 24px; background-color: #FFF7E5; border: 3px solid #FF6132; border-radius: 5px; position: absolute;\"> </div>\n",
       "        <div style=\"margin-left: 48px;\">\n",
       "            <h3 style=\"margin-bottom: 0px;\">Scheduler</h3>\n",
       "            <p style=\"color: #9D9D9D; margin-bottom: 0px;\">Scheduler-54e4799a-4a65-43b9-b403-fe4fe2d108c9</p>\n",
       "            <table style=\"width: 100%; text-align: left;\">\n",
       "                <tr>\n",
       "                    <td style=\"text-align: left;\">\n",
       "                        <strong>Comm:</strong> tcp://10.12.206.51:38627\n",
       "                    </td>\n",
       "                    <td style=\"text-align: left;\">\n",
       "                        <strong>Workers:</strong> 0\n",
       "                    </td>\n",
       "                </tr>\n",
       "                <tr>\n",
       "                    <td style=\"text-align: left;\">\n",
       "                        <strong>Dashboard:</strong> <a href=\"https://jupyterhub.hpc.ucar.edu/stable/user/tking/proxy/42546/status\" target=\"_blank\">https://jupyterhub.hpc.ucar.edu/stable/user/tking/proxy/42546/status</a>\n",
       "                    </td>\n",
       "                    <td style=\"text-align: left;\">\n",
       "                        <strong>Total threads:</strong> 0\n",
       "                    </td>\n",
       "                </tr>\n",
       "                <tr>\n",
       "                    <td style=\"text-align: left;\">\n",
       "                        <strong>Started:</strong> Just now\n",
       "                    </td>\n",
       "                    <td style=\"text-align: left;\">\n",
       "                        <strong>Total memory:</strong> 0 B\n",
       "                    </td>\n",
       "                </tr>\n",
       "            </table>\n",
       "        </div>\n",
       "    </div>\n",
       "\n",
       "    <details style=\"margin-left: 48px;\">\n",
       "        <summary style=\"margin-bottom: 20px;\">\n",
       "            <h3 style=\"display: inline;\">Workers</h3>\n",
       "        </summary>\n",
       "\n",
       "        \n",
       "\n",
       "    </details>\n",
       "</div>\n",
       "\n",
       "        </details>\n",
       "    </div>\n",
       "</div>\n",
       "            </details>\n",
       "        \n",
       "\n",
       "    </div>\n",
       "</div>"
      ],
      "text/plain": [
       "<Client: 'tcp://10.12.206.51:38627' processes=0 threads=0, memory=0 B>"
      ]
     },
     "execution_count": 6,
     "metadata": {},
     "output_type": "execute_result"
    }
   ],
   "source": [
    "client"
   ]
  },
  {
   "cell_type": "code",
   "execution_count": 7,
   "id": "f8912822-ca3a-48b0-8506-336a403cc2b5",
   "metadata": {},
   "outputs": [],
   "source": [
    "def time_set_midmonth(ds, time_name, deep=False):\n",
    "    \"\"\"\n",
    "    Return copy of ds with values of ds[time_name] replaced with mid-month\n",
    "    values (day=15) rather than end-month values.\n",
    "    \"\"\"\n",
    "    year = ds[time_name].dt.year\n",
    "    month = ds[time_name].dt.month\n",
    "    year = xr.where(month==1,year-1,year)\n",
    "    month = xr.where(month==1,12,month-1)\n",
    "    nmonths = len(month)\n",
    "    newtime = [cftime.DatetimeNoLeap(year[i], month[i], 15) for i in range(nmonths)]\n",
    "    ds[time_name] = newtime\n",
    "    return ds"
   ]
  },
  {
   "cell_type": "markdown",
   "id": "5fa45b56-dabc-4c69-8466-4968ed2e6a60",
   "metadata": {},
   "source": [
    "# Get the required variables "
   ]
  },
  {
   "cell_type": "code",
   "execution_count": 8,
   "id": "bfd76d96-d57c-43a3-82e3-b18ce54609a4",
   "metadata": {},
   "outputs": [
    {
     "name": "stderr",
     "output_type": "stream",
     "text": [
      "ERROR 1: PROJ: proj_create_from_database: Open of /glade/u/home/tking/.conda/envs/ipogs_from_steve/share/proj failed\n"
     ]
    }
   ],
   "source": [
    "#fdir = '/glade/campaign/collections/cmip/CMIP6/iHESP/BRCP85/HR/b.e13.BRCP85C5.ne120_t12.cesm-ihesp-hires1.0.30.002/ocn/proc/tseries/month_1/'\n",
    "#fdir = '/glade/campaign/collections/cmip/CMIP6/iHESP/BRCP85/HR/b.e13.BRCP85C5.ne120_t12.cesm-ihesp-hires1.0.31.003/ocn/proc/tseries/month_1/'\n",
    "#fdir = '/glade/campaign/collections/cmip/CMIP6/iHESP/BRCP45/HR/b.e13.BRCP45C5.ne120_t12.cesm-ihesp-hires1.0.42.003/ocn/proc/tseries/month_1/'\n",
    "fdir = '/glade/campaign/collections/cmip/CMIP6/iHESP/BRCP26/HR/b.e13.BRCP26C5.ne120_t12.cesm-ihesp-hires1.0.42.003/ocn/proc/tseries/month_1/'\n",
    "\n",
    "#fin = fdir + 'b.e13.BRCP85C5.ne120_t12.cesm-ihesp-hires1.0.30.002.pop.h.VVEL.200601-210012.nc'\n",
    "#fin = fdir + 'b.e13.BRCP85C5.ne120_t12.cesm-ihesp-hires1.0.31.003.pop.h.VVEL.200601-210012.nc'\n",
    "#fin = fdir + 'b.e13.BRCP45C5.ne120_t12.cesm-ihesp-hires1.0.42.003.pop.h.VVEL.200601-210012.nc'\n",
    "fin = fdir + 'b.e13.BRCP26C5.ne120_t12.cesm-ihesp-hires1.0.42.003.pop.h.VVEL.200601-210012.nc'\n",
    "dsV = xr.open_dataset(fin, chunks={'time':1,'nlon':100})  # TODO: try chunking by nlat\n",
    "dsV = time_set_midmonth(dsV,'time')\n",
    "\n",
    "#fin = fdir + 'b.e13.BRCP85C5.ne120_t12.cesm-ihesp-hires1.0.30.002.pop.h.WVEL.200601-210012.nc'\n",
    "#fin = fdir + 'b.e13.BRCP85C5.ne120_t12.cesm-ihesp-hires1.0.31.003.pop.h.WVEL.200601-210012.nc'\n",
    "#fin = fdir + 'b.e13.BRCP45C5.ne120_t12.cesm-ihesp-hires1.0.42.003.pop.h.WVEL.200601-210012.nc'\n",
    "fin = fdir + 'b.e13.BRCP26C5.ne120_t12.cesm-ihesp-hires1.0.42.003.pop.h.WVEL.200601-210012.nc'\n",
    "dsW = xr.open_dataset(fin, chunks={'time':1,'nlon':100})\n",
    "dsW = time_set_midmonth(dsW,'time')\n",
    "\n",
    "\n",
    "fin = fdir + 'b.e13.BRCP26C5.ne120_t12.cesm-ihesp-hires1.0.42.003.pop.h.TEMP.200601-210012.nc'\n",
    "dsT = xr.open_dataset(fin, chunks={'time':1,'nlon':100})\n",
    "dsT = time_set_midmonth(dsT,'time')\n",
    "\n",
    "fin = fdir + 'b.e13.BRCP26C5.ne120_t12.cesm-ihesp-hires1.0.42.003.pop.h.SALT.200601-210012.nc'\n",
    "dsS = xr.open_dataset(fin, chunks={'time':1,'nlon':100})\n",
    "dsS = time_set_midmonth(dsS,'time')\n",
    "\n",
    "fin = fdir + 'b.e13.BRCP26C5.ne120_t12.cesm-ihesp-hires1.0.42.003.pop.h.UVEL.200601-210012.nc'\n",
    "dsU = xr.open_dataset(fin, chunks={'time':1,'nlon':100})\n",
    "dsU = time_set_midmonth(dsU,'time')\n",
    "\n",
    "fgrd = '/glade/work/fredc/cesm/grid/POP/grid.3600x2400x62.nc'\n",
    "ds_grid = xr.open_dataset(fgrd)\n",
    "\n",
    "fmoc = '/glade/u/home/yeager/analysis/python/POP_MOC/moc_template.nc'\n",
    "ds_moctemp = xr.open_dataset(fmoc)"
   ]
  },
  {
   "cell_type": "code",
   "execution_count": 9,
   "id": "eae5386c-d7eb-4def-8cf9-ea7df669ad50",
   "metadata": {},
   "outputs": [],
   "source": [
    "u_e_all = dsU['UVEL']\n",
    "u_e_all = u_e_all.where(u_e_all<1.e30,0)\n",
    "v_e_all = dsV['VVEL']\n",
    "v_e_all = v_e_all.where(v_e_all<1.e30,0)\n",
    "\n",
    "# Get model T & S\n",
    "salt_all = dsS['SALT']\n",
    "temp_all = dsT['TEMP']\n",
    "\n",
    "tlon = ds_grid.TLONG.drop(['ULONG','ULAT'])\n",
    "tlat = ds_grid.TLAT.drop(['ULONG','ULAT'])\n",
    "ulon = ds_grid.ULONG.drop(['TLONG','TLAT'])\n",
    "ulat = ds_grid.ULAT.drop(['TLONG','TLAT'])"
   ]
  },
  {
   "cell_type": "markdown",
   "id": "52615ddd-7677-4c58-854e-7394e3594c31",
   "metadata": {},
   "source": [
    "### MOC Region Mask"
   ]
  },
  {
   "cell_type": "code",
   "execution_count": 10,
   "id": "d5e35845-76be-48d6-9440-f5bcf14ddc81",
   "metadata": {},
   "outputs": [],
   "source": [
    "## Define the MOC region mask:\n",
    "rmask = ds_grid.REGION_MASK.drop(['ULONG','ULAT'])\n",
    "rmaskglob = xr.where((rmask>0),1,0)\n",
    "rmaskatl = xr.where((rmask>=6) & (rmask<=11),1,0)\n",
    "rmaskmoc = xr.concat([rmaskglob,rmaskatl],dim=ds_moctemp.transport_regions)"
   ]
  },
  {
   "cell_type": "code",
   "execution_count": 11,
   "id": "12a46b68-29ee-46cc-a01a-982fe32c0593",
   "metadata": {},
   "outputs": [],
   "source": [
    "# determine j=index of Atlantic region southern boundary\n",
    "tmp = rmaskmoc.isel(transport_reg=1).sum('nlon')\n",
    "atl_j = 0\n",
    "j = 0\n",
    "while (atl_j==0):\n",
    "    if (tmp.isel(nlat=j).data>0):\n",
    "        atl_j = j\n",
    "    j += 1\n",
    "atl_j = atl_j - 1"
   ]
  },
  {
   "cell_type": "code",
   "execution_count": 12,
   "id": "ce33872f-b854-44d8-ba72-5659b03dfd8e",
   "metadata": {},
   "outputs": [
    {
     "name": "stdout",
     "output_type": "stream",
     "text": [
      "got dz\n",
      "got kmt\n",
      "got dzt dzu\n",
      "CPU times: user 11.8 s, sys: 11.2 s, total: 23 s\n",
      "Wall time: 24.9 s\n"
     ]
    }
   ],
   "source": [
    "%%time\n",
    "dz = ds_grid['dz'].persist() / 100.\n",
    "print('got dz')\n",
    "kmt = ds_grid['KMT'].fillna(0).persist() \n",
    "print('got kmt')\n",
    "# Slow step (~12 mins)\n",
    "dzt,dzu = popmoc.tx0p1v3_dztdzu(dz,kmt)\n",
    "print('got dzt dzu')"
   ]
  },
  {
   "cell_type": "code",
   "execution_count": 13,
   "id": "ce760cb3-feb3-4226-be9e-9b538570979a",
   "metadata": {},
   "outputs": [],
   "source": [
    "# Compute sigma-2 field from POP model output\n",
    "refz = 2000\n",
    "refdep = xr.DataArray(refz)\n",
    "\n",
    "# Grid Metrics\n",
    "dxu = ds_grid['DXU']\n",
    "dyu = ds_grid['DYU']\n",
    "dxt = ds_grid['DXT']\n",
    "dyt = ds_grid['DYT']"
   ]
  },
  {
   "cell_type": "markdown",
   "id": "3471a7be-d24b-4019-bef4-cf1ca7140486",
   "metadata": {},
   "source": [
    "# Loop over time slices and compute MOC "
   ]
  },
  {
   "cell_type": "code",
   "execution_count": 15,
   "id": "b860d9a9-4aee-47c8-91c4-ce6ecea06fca",
   "metadata": {},
   "outputs": [],
   "source": [
    "# ystart=[2006,2010,2020,2030,2040,2050,2060,2070,2080,2090,2100]\n",
    "# yend=[2009,2019,2029,2039,2049,2059,2069,2079,2089,2099,2100]\n",
    "\n",
    "ystart=[2030]\n",
    "yend=[2039]"
   ]
  },
  {
   "cell_type": "code",
   "execution_count": 17,
   "id": "7406c23a-a108-4f1a-b954-e822f7e28f60",
   "metadata": {
    "tags": []
   },
   "outputs": [
    {
     "name": "stdout",
     "output_type": "stream",
     "text": [
      "starting loop over 2020-2029 at Tue Mar  7 15:47:43 2023\n",
      "determining time subset of files to operate on\n",
      "calculating sigma2_T: Tue Mar  7 15:47:43 2023\n",
      "calculated sigma2_T: Tue Mar  7 15:47:52 2023\n",
      "sigma_mid and edge were calculated\n",
      "generating grid-oriented volume fluxes at Tue Mar  7 15:47:52 2023\n",
      "converting to c-grid fluxes at Tue Mar  7 15:48:09 2023\n",
      "generating iso_flux at Tue Mar  7 15:48:10 2023\n"
     ]
    }
   ],
   "source": [
    "%%time\n",
    "for n in range(len(ystart)):\n",
    "    print(\"starting loop over {}-{} at {}\".format(ystart[n], yend[n], time.ctime()))\n",
    "    print('determining time subset of files to operate on')\n",
    "    v_e = v_e_all.sel(time=slice(cftime.DatetimeNoLeap(ystart[n], 1, 1), cftime.DatetimeNoLeap(yend[n], 12, 31)))\n",
    "    u_e = u_e_all.sel(time=slice(cftime.DatetimeNoLeap(ystart[n], 1, 1), cftime.DatetimeNoLeap(yend[n], 12, 31)))\n",
    "    salt = salt_all.sel(time=slice(cftime.DatetimeNoLeap(ystart[n], 1, 1), cftime.DatetimeNoLeap(yend[n], 12, 31)))\n",
    "    temp = temp_all.sel(time=slice(cftime.DatetimeNoLeap(ystart[n], 1, 1), cftime.DatetimeNoLeap(yend[n], 12, 31)))\n",
    "\n",
    "    # Sigma2 on model TLAT, TLONG\n",
    "    print('calculating sigma2_T: {}'.format(time.ctime()))\n",
    "    sigma2_T = pop_tools.eos(salt=salt,temp=temp,depth=refdep) - 1000\n",
    "    sigma2_T = sigma2_T.assign_attrs({'long_name':'Sigma referenced to {}m'.format(refz),'units':'kg/m^3'})\n",
    "    print('calculated sigma2_T: {}'.format(time.ctime()))\n",
    "\n",
    "    # Define target sigma-2 vertical grid. Use a predefined target grid, or create your own!\n",
    "    sigma_mid,sigma_edge = popmoc.sigma2_grid_86L()\n",
    "    print('sigma_mid and edge were calculated')\n",
    "\n",
    "    # Grid-oriented Volume FLuxes:\n",
    "    print('generating grid-oriented volume fluxes at {}'.format(time.ctime()))\n",
    "    u_e = (u_e*dyu*dzu/1.e4).assign_attrs({'units':'m^3/s'})\n",
    "    v_e = (v_e*dxu*dzu/1.e4).assign_attrs({'units':'m^3/s'})\n",
    "\n",
    "    # Convert u_e,v_e to C-grid fluxes\n",
    "    print('converting to c-grid fluxes at {}'.format(time.ctime()))\n",
    "    u = 0.5*(u_e+u_e.shift(nlat=1))\n",
    "    v = 0.5*(v_e+v_e.roll(nlon=1,roll_coords=False))\n",
    "\n",
    "    # Volume fluxes in density-space. \n",
    "    print('generating iso_flux at {}'.format(time.ctime()))\n",
    "    iso_uflux = histogram(sigma2_T, bins=[sigma_edge.values],weights=u,dim=['z_t'],density=False)\n",
    "    iso_uflux = iso_uflux.rename({'density_bin':'sigma'}).assign_coords({'sigma':sigma_mid})\n",
    "    iso_vflux = histogram(sigma2_T, bins=[sigma_edge.values],weights=v,dim=['z_t'],density=False)\n",
    "    iso_vflux = iso_vflux.rename({'density_bin':'sigma'}).assign_coords({'sigma':sigma_mid})\n",
    "\n",
    "    # Compute Vertical Volume Flux from horizontal flux convergence\n",
    "    print('computing vertical volume flux at {}'.format(time.ctime()))\n",
    "    wflux = popmoc.wflux(iso_uflux,iso_vflux,'sigma',sigma_edge,grid='C')\n",
    "    wflux = wflux.assign_coords({'TLAT':tlat,'TLONG':tlon})\n",
    "\n",
    "    # Compute MOC\n",
    "    print('computing MOC at {}'.format(time.ctime()))\n",
    "    MOC = popmoc.compute_MOC(wflux,rmaskmoc,ds_moctemp.lat_aux_grid)\n",
    "    MOC = MOC.transpose('time','transport_reg','sigma','lat_aux_grid')\n",
    "    MOC = dask.optimize(MOC)[0]\n",
    "\n",
    "    # add vflux at southern boundary of Atlantic domain\n",
    "    tmp = iso_vflux*(rmaskmoc.shift(nlat=-1))\n",
    "    tmp = tmp.isel(nlat=atl_j,transport_reg=1).sum('nlon')\n",
    "    moc_s = -tmp.sortby('sigma',ascending=False).cumsum('sigma').sortby('sigma',ascending=True)/1.e6\n",
    "    moc_s['sigma'] = sigma_edge.isel(sigma=slice(0,-1))\n",
    "    MOC[{'transport_reg':1}] = MOC[{'transport_reg':1}] + moc_s\n",
    "\n",
    "    # Save to netcdf\n",
    "    MOCann = MOC.groupby('time.year').mean('time').rename({'year':'time'})\n",
    "    dsout = MOCann.to_dataset()\n",
    "\n",
    "    outdir = os.path.dirname(fin)\n",
    "    fout = os.path.split(fin)[-1].split('.')[:-3]\n",
    "    fout.append('MOCsig')\n",
    "    fout.append('{:04d}-{:04d}'.format(dsout.time.values[0],dsout.time.values[-1]))\n",
    "    fout.append('nc')\n",
    "    fout = '.'.join(fout)\n",
    "    fout = os.path.join(outdir,fout)\n",
    "    dsout.to_netcdf(fout,unlimited_dims='time')\n",
    "    print(\"wrote {} at {}\".format(fout, time.ctime()))"
   ]
  },
  {
   "cell_type": "code",
   "execution_count": null,
   "id": "6e6f8330-444d-4484-930e-d57b6a77d043",
   "metadata": {},
   "outputs": [],
   "source": []
  },
  {
   "cell_type": "code",
   "execution_count": 19,
   "id": "eb312f97-8e04-40b7-82c5-abe4ba2a7117",
   "metadata": {},
   "outputs": [],
   "source": []
  },
  {
   "cell_type": "code",
   "execution_count": null,
   "id": "2692c10c-8959-4b94-87fb-bfccf64d28f6",
   "metadata": {},
   "outputs": [],
   "source": []
  },
  {
   "cell_type": "code",
   "execution_count": null,
   "id": "a71b39af-3105-459a-bb62-497efcab9783",
   "metadata": {},
   "outputs": [],
   "source": []
  }
 ],
 "metadata": {
  "kernelspec": {
   "display_name": "ipogs_from_steve",
   "language": "python",
   "name": "ipogs_from_steve"
  },
  "language_info": {
   "codemirror_mode": {
    "name": "ipython",
    "version": 3
   },
   "file_extension": ".py",
   "mimetype": "text/x-python",
   "name": "python",
   "nbconvert_exporter": "python",
   "pygments_lexer": "ipython3",
   "version": "3.10.8"
  }
 },
 "nbformat": 4,
 "nbformat_minor": 5
}
